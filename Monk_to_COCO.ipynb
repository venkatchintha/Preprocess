{
  "nbformat": 4,
  "nbformat_minor": 0,
  "metadata": {
    "colab": {
      "name": "Monk to COCO.ipynb",
      "provenance": [],
      "machine_shape": "hm",
      "authorship_tag": "ABX9TyN2OtISEWjfxb4tfdYf/UT2",
      "include_colab_link": true
    },
    "kernelspec": {
      "name": "python3",
      "display_name": "Python 3"
    },
    "accelerator": "GPU"
  },
  "cells": [
    {
      "cell_type": "markdown",
      "metadata": {
        "id": "view-in-github",
        "colab_type": "text"
      },
      "source": [
        "<a href=\"https://colab.research.google.com/github/venkatchintha/Project0/blob/master/Monk_to_COCO.ipynb\" target=\"_parent\"><img src=\"https://colab.research.google.com/assets/colab-badge.svg\" alt=\"Open In Colab\"/></a>"
      ]
    },
    {
      "cell_type": "code",
      "metadata": {
        "id": "qdUcHzGW194J",
        "colab_type": "code",
        "colab": {
          "base_uri": "https://localhost:8080/",
          "height": 34
        },
        "outputId": "6d7a4abd-92f9-4c21-8f7a-4c959e0e485a"
      },
      "source": [
        "from google.colab import drive\n",
        "drive.mount('/content/drive',force_remount= True)"
      ],
      "execution_count": 155,
      "outputs": [
        {
          "output_type": "stream",
          "text": [
            "Mounted at /content/drive\n"
          ],
          "name": "stdout"
        }
      ]
    },
    {
      "cell_type": "code",
      "metadata": {
        "id": "KUhUZAcR3WkT",
        "colab_type": "code",
        "colab": {
          "base_uri": "https://localhost:8080/",
          "height": 51
        },
        "outputId": "3f656be9-8821-448e-8b79-6658c2bd5dac"
      },
      "source": [
        "%cd /content/drive/My Drive/Kaggle/nexet"
      ],
      "execution_count": 2,
      "outputs": [
        {
          "output_type": "stream",
          "text": [
            "[Errno 2] No such file or directory: '/content/drive/My Drive/Kaggle/nexet'\n",
            "/content\n"
          ],
          "name": "stdout"
        }
      ]
    },
    {
      "cell_type": "code",
      "metadata": {
        "id": "jcFtkxe_2PMZ",
        "colab_type": "code",
        "colab": {
          "base_uri": "https://localhost:8080/",
          "height": 51
        },
        "outputId": "527b67e0-66a6-4ba4-f58f-017eb3fdd5cf"
      },
      "source": [
        "! git clone https://github.com/Tessellate-Imaging/Monk_Object_Detection.git"
      ],
      "execution_count": 160,
      "outputs": [
        {
          "output_type": "stream",
          "text": [
            "shell-init: error retrieving current directory: getcwd: cannot access parent directories: No such file or directory\n",
            "fatal: could not create work tree dir 'Monk_Object_Detection': No such file or directory\n"
          ],
          "name": "stdout"
        }
      ]
    },
    {
      "cell_type": "code",
      "metadata": {
        "id": "unIpHxlE2SRR",
        "colab_type": "code",
        "colab": {
          "base_uri": "https://localhost:8080/",
          "height": 357
        },
        "outputId": "826d9b15-b8ed-4b63-b7ee-5a8ad2e7ecc8"
      },
      "source": [
        "! cd Monk_Object_Detection/3_mxrcnn/installation && cat requirements_colab.txt | xargs -n 1 -L 1 pip install"
      ],
      "execution_count": 69,
      "outputs": [
        {
          "output_type": "stream",
          "text": [
            "Requirement already satisfied: mxnet-cu100 in /usr/local/lib/python3.6/dist-packages (1.5.1.post0)\n",
            "Requirement already satisfied: numpy<2.0.0,>1.16.0 in /usr/local/lib/python3.6/dist-packages (from mxnet-cu100) (1.18.5)\n",
            "Requirement already satisfied: graphviz<0.9.0,>=0.8.1 in /usr/local/lib/python3.6/dist-packages (from mxnet-cu100) (0.8.4)\n",
            "Requirement already satisfied: requests<3,>=2.20.0 in /usr/local/lib/python3.6/dist-packages (from mxnet-cu100) (2.23.0)\n",
            "Requirement already satisfied: urllib3!=1.25.0,!=1.25.1,<1.26,>=1.21.1 in /usr/local/lib/python3.6/dist-packages (from requests<3,>=2.20.0->mxnet-cu100) (1.24.3)\n",
            "Requirement already satisfied: certifi>=2017.4.17 in /usr/local/lib/python3.6/dist-packages (from requests<3,>=2.20.0->mxnet-cu100) (2020.6.20)\n",
            "Requirement already satisfied: idna<3,>=2.5 in /usr/local/lib/python3.6/dist-packages (from requests<3,>=2.20.0->mxnet-cu100) (2.10)\n",
            "Requirement already satisfied: chardet<4,>=3.0.2 in /usr/local/lib/python3.6/dist-packages (from requests<3,>=2.20.0->mxnet-cu100) (3.0.4)\n",
            "Requirement already satisfied: dicttoxml in /usr/local/lib/python3.6/dist-packages (1.7.4)\n",
            "Requirement already satisfied: xmltodict in /usr/local/lib/python3.6/dist-packages (0.12.0)\n",
            "Requirement already satisfied: pycocotools from git+https://github.com/abhi-kumar/cocoapi.git#egg=pycocotools&subdirectory=PythonAPI in /usr/local/lib/python3.6/dist-packages (2.0.1)\n",
            "Requirement already satisfied: matplotlib>=2.1.0 in /usr/local/lib/python3.6/dist-packages (from pycocotools) (3.2.2)\n",
            "Requirement already satisfied: setuptools>=18.0 in /usr/local/lib/python3.6/dist-packages (from pycocotools) (49.2.0)\n",
            "Requirement already satisfied: cython>=0.27.3 in /usr/local/lib/python3.6/dist-packages (from pycocotools) (0.29.21)\n",
            "Requirement already satisfied: numpy>=1.11 in /usr/local/lib/python3.6/dist-packages (from matplotlib>=2.1.0->pycocotools) (1.18.5)\n",
            "Requirement already satisfied: python-dateutil>=2.1 in /usr/local/lib/python3.6/dist-packages (from matplotlib>=2.1.0->pycocotools) (2.8.1)\n",
            "Requirement already satisfied: kiwisolver>=1.0.1 in /usr/local/lib/python3.6/dist-packages (from matplotlib>=2.1.0->pycocotools) (1.2.0)\n",
            "Requirement already satisfied: pyparsing!=2.0.4,!=2.1.2,!=2.1.6,>=2.0.1 in /usr/local/lib/python3.6/dist-packages (from matplotlib>=2.1.0->pycocotools) (2.4.7)\n",
            "Requirement already satisfied: cycler>=0.10 in /usr/local/lib/python3.6/dist-packages (from matplotlib>=2.1.0->pycocotools) (0.10.0)\n",
            "Requirement already satisfied: six>=1.5 in /usr/local/lib/python3.6/dist-packages (from python-dateutil>=2.1->matplotlib>=2.1.0->pycocotools) (1.15.0)\n"
          ],
          "name": "stdout"
        }
      ]
    },
    {
      "cell_type": "code",
      "metadata": {
        "id": "f5MEX3TB2VJd",
        "colab_type": "code",
        "colab": {}
      },
      "source": [
        "import os\n",
        "import numpy as np \n",
        "import cv2\n",
        "import dicttoxml\n",
        "import xml.etree.ElementTree as ET\n",
        "from xml.dom.minidom import parseString\n",
        "from tqdm import tqdm\n",
        "import shutil\n",
        "import json\n",
        "import pandas as pd"
      ],
      "execution_count": 70,
      "outputs": []
    },
    {
      "cell_type": "code",
      "metadata": {
        "id": "sSkUHPWP24JU",
        "colab_type": "code",
        "colab": {}
      },
      "source": [
        "root= \"/content/drive/My Drive/Kaggle/nexet\";\n",
        "img_dir = \"nexet_2017_1/\";\n",
        "anno_file = \"train_labels.csv\";"
      ],
      "execution_count": 147,
      "outputs": []
    },
    {
      "cell_type": "code",
      "metadata": {
        "id": "QbsRHFTs2Yer",
        "colab_type": "code",
        "colab": {}
      },
      "source": [
        "dataset_path = root;\n",
        "images_folder = root + \"/\" + img_dir;\n",
        "annotations_path = root + \"/annotations/\";"
      ],
      "execution_count": 8,
      "outputs": []
    },
    {
      "cell_type": "code",
      "metadata": {
        "id": "e9wsUeht2dzP",
        "colab_type": "code",
        "colab": {}
      },
      "source": [
        "if not os.path.isdir(annotations_path):\n",
        "    os.mkdir(annotations_path)\n",
        "    \n",
        "input_images_folder = images_folder;\n",
        "input_annotations_path = root + \"/\" + anno_file;"
      ],
      "execution_count": 9,
      "outputs": []
    },
    {
      "cell_type": "code",
      "metadata": {
        "id": "6xp4Mvf82gWj",
        "colab_type": "code",
        "colab": {}
      },
      "source": [
        "output_dataset_path = root;\n",
        "output_image_folder = input_images_folder;\n",
        "output_annotation_folder = annotations_path;\n",
        "\n",
        "tmp = img_dir.replace(\"/\", \"\");\n",
        "output_annotation_file = output_annotation_folder + \"/instances_\" + tmp + \".json\";\n",
        "output_classes_file = output_annotation_folder + \"/classes.txt\";"
      ],
      "execution_count": 10,
      "outputs": []
    },
    {
      "cell_type": "code",
      "metadata": {
        "id": "i3KvQ8HK2hCQ",
        "colab_type": "code",
        "colab": {}
      },
      "source": [
        "if not os.path.isdir(output_annotation_folder):\n",
        "    os.mkdir(output_annotation_folder);"
      ],
      "execution_count": 11,
      "outputs": []
    },
    {
      "cell_type": "code",
      "metadata": {
        "id": "GCZA0m4-2jtX",
        "colab_type": "code",
        "colab": {}
      },
      "source": [
        "df = pd.read_csv(input_annotations_path);\n",
        "columns = df.columns"
      ],
      "execution_count": 12,
      "outputs": []
    },
    {
      "cell_type": "code",
      "metadata": {
        "id": "m1SkITIn2mP2",
        "colab_type": "code",
        "colab": {}
      },
      "source": [
        "delimiter = \" \";"
      ],
      "execution_count": 13,
      "outputs": []
    },
    {
      "cell_type": "code",
      "metadata": {
        "id": "gnFkCPK02o6d",
        "colab_type": "code",
        "colab": {
          "base_uri": "https://localhost:8080/",
          "height": 34
        },
        "outputId": "cec2b196-94c9-4a2e-8cb7-43f6b1f3ad14"
      },
      "source": [
        "list_dict = [];\n",
        "anno = [];\n",
        "for i in range(len(df)):\n",
        "    img_name = df[columns[0]][i];\n",
        "    labels = df[columns[1]][i];\n",
        "    tmp = labels.split(delimiter);\n",
        "    for j in range(len(tmp)//5):\n",
        "        label = tmp[j*5+4];\n",
        "        if(label not in anno):\n",
        "            anno.append(label);\n",
        "    anno = sorted(anno)\n",
        "    \n",
        "for i in tqdm(range(len(anno))):\n",
        "    tmp = {};\n",
        "    tmp[\"supercategory\"] = \"master\";\n",
        "    tmp[\"id\"] = i;\n",
        "    tmp[\"name\"] = anno[i];\n",
        "    list_dict.append(tmp);\n",
        "\n",
        "anno_f = open(output_classes_file, 'w');\n",
        "for i in range(len(anno)):\n",
        "    anno_f.write(anno[i] + \"\\n\");\n",
        "anno_f.close();"
      ],
      "execution_count": 14,
      "outputs": [
        {
          "output_type": "stream",
          "text": [
            "100%|██████████| 5/5 [00:00<00:00, 5070.48it/s]\n"
          ],
          "name": "stderr"
        }
      ]
    },
    {
      "cell_type": "code",
      "metadata": {
        "id": "3X1gx0Qb2sR3",
        "colab_type": "code",
        "colab": {
          "base_uri": "https://localhost:8080/",
          "height": 34
        },
        "outputId": "d53c3d3e-cd58-4b9b-a693-e3d8767911e1"
      },
      "source": [
        "coco_data = {};\n",
        "coco_data[\"type\"] = \"instances\";\n",
        "coco_data[\"images\"] = [];\n",
        "coco_data[\"annotations\"] = [];\n",
        "coco_data[\"categories\"] = list_dict;\n",
        "image_id = 0;\n",
        "annotation_id = 0;\n",
        "\n",
        "\n",
        "for i in tqdm(range(len(df))):\n",
        "    img_name = df[columns[0]][i];\n",
        "    labels = df[columns[1]][i];\n",
        "    tmp = labels.split(delimiter);\n",
        "    image_in_path = input_images_folder + \"/\" + img_name;\n",
        "    img = cv2.imread(image_in_path, 1);\n",
        "    h, w, c = img.shape;\n",
        "\n",
        "    images_tmp = {};\n",
        "    images_tmp[\"file_name\"] = img_name;\n",
        "    images_tmp[\"height\"] = h;\n",
        "    images_tmp[\"width\"] = w;\n",
        "    images_tmp[\"id\"] = image_id;\n",
        "    coco_data[\"images\"].append(images_tmp);\n",
        "    \n",
        "\n",
        "    for j in range(len(tmp)//5):\n",
        "        x1 = int(float(tmp[j*5+0]));\n",
        "        y1 = int(float(tmp[j*5+1]));\n",
        "        x2 = int(float(tmp[j*5+2]));\n",
        "        y2 = int(float(tmp[j*5+3]));\n",
        "        label = tmp[j*5+4];\n",
        "        annotations_tmp = {};\n",
        "        annotations_tmp[\"id\"] = annotation_id;\n",
        "        annotation_id += 1;                                                                 \n",
        "        annotations_tmp[\"image_id\"] = image_id;\n",
        "        annotations_tmp[\"segmentation\"] = [];\n",
        "        annotations_tmp[\"ignore\"] = 0;\n",
        "        annotations_tmp[\"area\"] = (x2-x1)*(y2-y1);\n",
        "        annotations_tmp[\"iscrowd\"] = 0;\n",
        "        annotations_tmp[\"bbox\"] = [x1, y1, x2-x1, y2-y1];\n",
        "        annotations_tmp[\"category_id\"] = anno.index(label);\n",
        "\n",
        "        coco_data[\"annotations\"].append(annotations_tmp)\n",
        "    image_id += 1;\n",
        "\n",
        "outfile =  open(output_annotation_file, 'w');\n",
        "json_str = json.dumps(coco_data, indent=4);\n",
        "outfile.write(json_str);\n",
        "outfile.close();"
      ],
      "execution_count": 15,
      "outputs": [
        {
          "output_type": "stream",
          "text": [
            "100%|██████████| 49281/49281 [6:10:22<00:00,  2.22it/s]\n"
          ],
          "name": "stderr"
        }
      ]
    },
    {
      "cell_type": "code",
      "metadata": {
        "id": "1IG3e1N6QAku",
        "colab_type": "code",
        "colab": {
          "base_uri": "https://localhost:8080/",
          "height": 153
        },
        "outputId": "48d8cec2-97c7-4abc-8930-e2ccfa1fc20d"
      },
      "source": [
        "! git clone https://github.com/Tessellate-Imaging/Monk_Object_Detection.git"
      ],
      "execution_count": 1,
      "outputs": [
        {
          "output_type": "stream",
          "text": [
            "Cloning into 'Monk_Object_Detection'...\n",
            "remote: Enumerating objects: 175, done.\u001b[K\n",
            "remote: Counting objects: 100% (175/175), done.\u001b[K\n",
            "remote: Compressing objects: 100% (142/142), done.\u001b[K\n",
            "remote: Total 6915 (delta 86), reused 65 (delta 33), pack-reused 6740\u001b[K\n",
            "Receiving objects: 100% (6915/6915), 206.40 MiB | 39.45 MiB/s, done.\n",
            "Resolving deltas: 100% (2697/2697), done.\n",
            "Checking out files: 100% (5499/5499), done.\n"
          ],
          "name": "stdout"
        }
      ]
    },
    {
      "cell_type": "code",
      "metadata": {
        "id": "4lIMAAc2QRGs",
        "colab_type": "code",
        "colab": {
          "base_uri": "https://localhost:8080/",
          "height": 357
        },
        "outputId": "6f10116c-8de5-4855-d838-5d5581ff87e9"
      },
      "source": [
        "! cd Monk_Object_Detection/3_mxrcnn/installation && cat requirements_colab.txt | xargs -n 1 -L 1 pip install"
      ],
      "execution_count": 73,
      "outputs": [
        {
          "output_type": "stream",
          "text": [
            "Requirement already satisfied: mxnet-cu100 in /usr/local/lib/python3.6/dist-packages (1.5.1.post0)\n",
            "Requirement already satisfied: requests<3,>=2.20.0 in /usr/local/lib/python3.6/dist-packages (from mxnet-cu100) (2.23.0)\n",
            "Requirement already satisfied: graphviz<0.9.0,>=0.8.1 in /usr/local/lib/python3.6/dist-packages (from mxnet-cu100) (0.8.4)\n",
            "Requirement already satisfied: numpy<2.0.0,>1.16.0 in /usr/local/lib/python3.6/dist-packages (from mxnet-cu100) (1.18.5)\n",
            "Requirement already satisfied: chardet<4,>=3.0.2 in /usr/local/lib/python3.6/dist-packages (from requests<3,>=2.20.0->mxnet-cu100) (3.0.4)\n",
            "Requirement already satisfied: idna<3,>=2.5 in /usr/local/lib/python3.6/dist-packages (from requests<3,>=2.20.0->mxnet-cu100) (2.10)\n",
            "Requirement already satisfied: certifi>=2017.4.17 in /usr/local/lib/python3.6/dist-packages (from requests<3,>=2.20.0->mxnet-cu100) (2020.6.20)\n",
            "Requirement already satisfied: urllib3!=1.25.0,!=1.25.1,<1.26,>=1.21.1 in /usr/local/lib/python3.6/dist-packages (from requests<3,>=2.20.0->mxnet-cu100) (1.24.3)\n",
            "Requirement already satisfied: dicttoxml in /usr/local/lib/python3.6/dist-packages (1.7.4)\n",
            "Requirement already satisfied: xmltodict in /usr/local/lib/python3.6/dist-packages (0.12.0)\n",
            "Requirement already satisfied: pycocotools from git+https://github.com/abhi-kumar/cocoapi.git#egg=pycocotools&subdirectory=PythonAPI in /usr/local/lib/python3.6/dist-packages (2.0.1)\n",
            "Requirement already satisfied: cython>=0.27.3 in /usr/local/lib/python3.6/dist-packages (from pycocotools) (0.29.21)\n",
            "Requirement already satisfied: matplotlib>=2.1.0 in /usr/local/lib/python3.6/dist-packages (from pycocotools) (3.2.2)\n",
            "Requirement already satisfied: setuptools>=18.0 in /usr/local/lib/python3.6/dist-packages (from pycocotools) (49.2.0)\n",
            "Requirement already satisfied: python-dateutil>=2.1 in /usr/local/lib/python3.6/dist-packages (from matplotlib>=2.1.0->pycocotools) (2.8.1)\n",
            "Requirement already satisfied: pyparsing!=2.0.4,!=2.1.2,!=2.1.6,>=2.0.1 in /usr/local/lib/python3.6/dist-packages (from matplotlib>=2.1.0->pycocotools) (2.4.7)\n",
            "Requirement already satisfied: kiwisolver>=1.0.1 in /usr/local/lib/python3.6/dist-packages (from matplotlib>=2.1.0->pycocotools) (1.2.0)\n",
            "Requirement already satisfied: cycler>=0.10 in /usr/local/lib/python3.6/dist-packages (from matplotlib>=2.1.0->pycocotools) (0.10.0)\n",
            "Requirement already satisfied: numpy>=1.11 in /usr/local/lib/python3.6/dist-packages (from matplotlib>=2.1.0->pycocotools) (1.18.5)\n",
            "Requirement already satisfied: six>=1.5 in /usr/local/lib/python3.6/dist-packages (from python-dateutil>=2.1->matplotlib>=2.1.0->pycocotools) (1.15.0)\n"
          ],
          "name": "stdout"
        }
      ]
    },
    {
      "cell_type": "code",
      "metadata": {
        "id": "ccgUbw4bQXqs",
        "colab_type": "code",
        "colab": {}
      },
      "source": [
        "import os\n",
        "import sys\n",
        "sys.path.append(\"Monk_Object_Detection/3_mxrcnn/lib/\")\n",
        "sys.path.append(\"Monk_Object_Detection/3_mxrcnn/lib/mx-rcnn\")"
      ],
      "execution_count": 171,
      "outputs": []
    },
    {
      "cell_type": "code",
      "metadata": {
        "id": "8YwYRWSjQY1H",
        "colab_type": "code",
        "colab": {}
      },
      "source": [
        "from train_base import *"
      ],
      "execution_count": 172,
      "outputs": []
    },
    {
      "cell_type": "code",
      "metadata": {
        "id": "YJ4HM3MLQb0v",
        "colab_type": "code",
        "colab": {}
      },
      "source": [
        "root_dir = \"/content/drive/My Drive/Kaggle/\";\n",
        "coco_dir = \"nexet\";\n",
        "img_dir = \"nexet_2017_1\";\n",
        "\n"
      ],
      "execution_count": 168,
      "outputs": []
    },
    {
      "cell_type": "code",
      "metadata": {
        "id": "ErUtLxh2ROPo",
        "colab_type": "code",
        "colab": {}
      },
      "source": [
        "\n",
        "set_dataset_params(root_dir=root_dir, \n",
        "                   coco_dir=coco_dir, imageset=img_dir);"
      ],
      "execution_count": 169,
      "outputs": []
    },
    {
      "cell_type": "code",
      "metadata": {
        "id": "rGnsoRuCRT2k",
        "colab_type": "code",
        "colab": {
          "base_uri": "https://localhost:8080/",
          "height": 809
        },
        "outputId": "26baa743-90ef-45f9-cd1c-142cd1bea4aa"
      },
      "source": [
        "\n",
        "set_model_params(model_name=\"vgg16\");"
      ],
      "execution_count": 170,
      "outputs": [
        {
          "output_type": "stream",
          "text": [
            "ERROR:root:Internal Python error in the inspect module.\n",
            "Below is the traceback from this internal error.\n",
            "\n",
            "INFO:root:\n",
            "Unfortunately, your original traceback can not be constructed.\n",
            "\n"
          ],
          "name": "stderr"
        },
        {
          "output_type": "stream",
          "text": [
            "Traceback (most recent call last):\n",
            "  File \"/usr/local/lib/python3.6/dist-packages/IPython/core/interactiveshell.py\", line 2882, in run_code\n",
            "    exec(code_obj, self.user_global_ns, self.user_ns)\n",
            "  File \"<ipython-input-170-00a154e9a416>\", line 2, in <module>\n",
            "    set_model_params(model_name=\"vgg16\");\n",
            "  File \"Monk_Object_Detection/3_mxrcnn/lib/train_base.py\", line 112, in set_model_params\n",
            "FileNotFoundError: [Errno 2] No such file or directory: 'pretrained'\n",
            "\n",
            "During handling of the above exception, another exception occurred:\n",
            "\n",
            "Traceback (most recent call last):\n",
            "  File \"/usr/local/lib/python3.6/dist-packages/IPython/core/interactiveshell.py\", line 1823, in showtraceback\n",
            "    stb = value._render_traceback_()\n",
            "AttributeError: 'FileNotFoundError' object has no attribute '_render_traceback_'\n",
            "\n",
            "During handling of the above exception, another exception occurred:\n",
            "\n",
            "Traceback (most recent call last):\n",
            "  File \"/usr/local/lib/python3.6/dist-packages/IPython/core/ultratb.py\", line 1132, in get_records\n",
            "    return _fixed_getinnerframes(etb, number_of_lines_of_context, tb_offset)\n",
            "  File \"/usr/local/lib/python3.6/dist-packages/IPython/core/ultratb.py\", line 313, in wrapped\n",
            "    return f(*args, **kwargs)\n",
            "  File \"/usr/local/lib/python3.6/dist-packages/IPython/core/ultratb.py\", line 358, in _fixed_getinnerframes\n",
            "    records = fix_frame_records_filenames(inspect.getinnerframes(etb, context))\n",
            "  File \"/usr/lib/python3.6/inspect.py\", line 1490, in getinnerframes\n",
            "    frameinfo = (tb.tb_frame,) + getframeinfo(tb, context)\n",
            "  File \"/usr/lib/python3.6/inspect.py\", line 1448, in getframeinfo\n",
            "    filename = getsourcefile(frame) or getfile(frame)\n",
            "  File \"/usr/lib/python3.6/inspect.py\", line 696, in getsourcefile\n",
            "    if getattr(getmodule(object, filename), '__loader__', None) is not None:\n",
            "  File \"/usr/lib/python3.6/inspect.py\", line 725, in getmodule\n",
            "    file = getabsfile(object, _filename)\n",
            "  File \"/usr/lib/python3.6/inspect.py\", line 709, in getabsfile\n",
            "    return os.path.normcase(os.path.abspath(_filename))\n",
            "  File \"/usr/lib/python3.6/posixpath.py\", line 383, in abspath\n",
            "    cwd = os.getcwd()\n",
            "FileNotFoundError: [Errno 2] No such file or directory\n"
          ],
          "name": "stdout"
        },
        {
          "output_type": "error",
          "ename": "FileNotFoundError",
          "evalue": "ignored",
          "traceback": [
            "\u001b[0;31m---------------------------------------------------------------------------\u001b[0m"
          ]
        }
      ]
    },
    {
      "cell_type": "code",
      "metadata": {
        "id": "6OrITj7gRXIw",
        "colab_type": "code",
        "colab": {}
      },
      "source": [
        "set_hyper_params(gpus=\"0\", lr=0.001, lr_decay_epoch=\"1\", epochs=4, batch_size=1);"
      ],
      "execution_count": 130,
      "outputs": []
    },
    {
      "cell_type": "code",
      "metadata": {
        "id": "Z1fqCYzERbMD",
        "colab_type": "code",
        "colab": {}
      },
      "source": [
        "set_output_params(log_interval=100, save_prefix=\"model_vgg16\");"
      ],
      "execution_count": 131,
      "outputs": []
    },
    {
      "cell_type": "code",
      "metadata": {
        "id": "cw72JJ6xRbKi",
        "colab_type": "code",
        "colab": {}
      },
      "source": [
        "set_img_preproc_params(img_short_side=600, img_long_side=1000, \n",
        "                       mean=(123.68, 116.779, 103.939), std=(1.0, 1.0, 1.0));"
      ],
      "execution_count": 132,
      "outputs": []
    },
    {
      "cell_type": "code",
      "metadata": {
        "id": "HYuWNwkcRg37",
        "colab_type": "code",
        "colab": {}
      },
      "source": [
        "initialize_rpn_params();"
      ],
      "execution_count": 133,
      "outputs": []
    },
    {
      "cell_type": "code",
      "metadata": {
        "id": "w5jV7EmfRjdN",
        "colab_type": "code",
        "colab": {}
      },
      "source": [
        "initialize_rcnn_params();"
      ],
      "execution_count": 134,
      "outputs": []
    },
    {
      "cell_type": "code",
      "metadata": {
        "id": "sMNxFfBJRmPt",
        "colab_type": "code",
        "colab": {}
      },
      "source": [
        "\n",
        "if os.path.isdir(\"/content/drive/My Drive/Kaggle/nexet/cache/\"):\n",
        "    os.system(\"rm -r /content/drive/My Drive/Kaggle/nexet/cache/\")"
      ],
      "execution_count": 139,
      "outputs": []
    },
    {
      "cell_type": "code",
      "metadata": {
        "id": "AdXNhHsHR2OH",
        "colab_type": "code",
        "colab": {
          "base_uri": "https://localhost:8080/",
          "height": 85
        },
        "outputId": "946333b9-20de-4067-d701-96511e7fd2d8"
      },
      "source": [
        "roidb = set_dataset();"
      ],
      "execution_count": 136,
      "outputs": [
        {
          "output_type": "stream",
          "text": [
            "INFO:root:loading cache /content/drive/My Drive/Kaggle/nexet/cache/coco_nexet_2017_1_roidb.pkl\n",
            "INFO:root:coco_nexet_2017_1 num_images 49281\n",
            "INFO:root:filter roidb: 49281 -> 49281\n",
            "INFO:root:coco_nexet_2017_1 append flipped images to roidb\n"
          ],
          "name": "stderr"
        }
      ]
    },
    {
      "cell_type": "code",
      "metadata": {
        "id": "1QcW3d91R7nM",
        "colab_type": "code",
        "colab": {}
      },
      "source": [
        "sym = set_network();"
      ],
      "execution_count": 140,
      "outputs": []
    },
    {
      "cell_type": "code",
      "metadata": {
        "id": "yEmHL3AAR_uO",
        "colab_type": "code",
        "colab": {
          "base_uri": "https://localhost:8080/",
          "height": 714
        },
        "outputId": "5f81387a-77d8-49fe-92b3-d774b05c22b2"
      },
      "source": [
        "train(sym, roidb);"
      ],
      "execution_count": 141,
      "outputs": [
        {
          "output_type": "stream",
          "text": [
            "INFO:root:max input shape\n",
            "{'bbox_target': (1, 36, 62, 62),\n",
            " 'bbox_weight': (1, 36, 62, 62),\n",
            " 'data': (1, 3, 1000, 1000),\n",
            " 'gt_boxes': (1, 100, 5),\n",
            " 'im_info': (1, 3),\n",
            " 'label': (1, 1, 558, 62)}\n",
            "INFO:root:max output shape\n",
            "{'bbox_loss_reshape_output': (1, 128, 24),\n",
            " 'blockgrad8_output': (1, 128),\n",
            " 'cls_prob_reshape_output': (1, 128, 6),\n",
            " 'rpn_bbox_loss_output': (1, 36, 62, 62),\n",
            " 'rpn_cls_prob_output': (1, 2, 558, 62)}\n"
          ],
          "name": "stderr"
        },
        {
          "output_type": "error",
          "ename": "MXNetError",
          "evalue": "ignored",
          "traceback": [
            "\u001b[0;31m---------------------------------------------------------------------------\u001b[0m",
            "\u001b[0;31mMXNetError\u001b[0m                                Traceback (most recent call last)",
            "\u001b[0;32m<ipython-input-141-02b6efc15620>\u001b[0m in \u001b[0;36m<module>\u001b[0;34m()\u001b[0m\n\u001b[0;32m----> 1\u001b[0;31m \u001b[0mtrain\u001b[0m\u001b[0;34m(\u001b[0m\u001b[0msym\u001b[0m\u001b[0;34m,\u001b[0m \u001b[0mroidb\u001b[0m\u001b[0;34m)\u001b[0m\u001b[0;34m;\u001b[0m\u001b[0;34m\u001b[0m\u001b[0;34m\u001b[0m\u001b[0m\n\u001b[0m",
            "\u001b[0;32m/content/drive/My Drive/Kaggle/nexet/nexet/Monk_Object_Detection/3_mxrcnn/lib/train_base.py\u001b[0m in \u001b[0;36mtrain\u001b[0;34m(sym, roidb)\u001b[0m\n\u001b[1;32m    480\u001b[0m         \u001b[0marg_params\u001b[0m\u001b[0;34m,\u001b[0m \u001b[0maux_params\u001b[0m \u001b[0;34m=\u001b[0m \u001b[0mload_param\u001b[0m\u001b[0;34m(\u001b[0m\u001b[0msystem_dict\u001b[0m\u001b[0;34m[\u001b[0m\u001b[0;34m\"resume\"\u001b[0m\u001b[0;34m]\u001b[0m\u001b[0;34m)\u001b[0m\u001b[0;34m\u001b[0m\u001b[0;34m\u001b[0m\u001b[0m\n\u001b[1;32m    481\u001b[0m     \u001b[0;32melse\u001b[0m\u001b[0;34m:\u001b[0m\u001b[0;34m\u001b[0m\u001b[0;34m\u001b[0m\u001b[0m\n\u001b[0;32m--> 482\u001b[0;31m         \u001b[0marg_params\u001b[0m\u001b[0;34m,\u001b[0m \u001b[0maux_params\u001b[0m \u001b[0;34m=\u001b[0m \u001b[0mload_param\u001b[0m\u001b[0;34m(\u001b[0m\u001b[0msystem_dict\u001b[0m\u001b[0;34m[\u001b[0m\u001b[0;34m\"pretrained\"\u001b[0m\u001b[0;34m]\u001b[0m\u001b[0;34m)\u001b[0m\u001b[0;34m\u001b[0m\u001b[0;34m\u001b[0m\u001b[0m\n\u001b[0m\u001b[1;32m    483\u001b[0m         \u001b[0marg_params\u001b[0m\u001b[0;34m,\u001b[0m \u001b[0maux_params\u001b[0m \u001b[0;34m=\u001b[0m \u001b[0minitialize_frcnn\u001b[0m\u001b[0;34m(\u001b[0m\u001b[0msym\u001b[0m\u001b[0;34m,\u001b[0m \u001b[0mdata_shapes\u001b[0m\u001b[0;34m,\u001b[0m \u001b[0marg_params\u001b[0m\u001b[0;34m,\u001b[0m \u001b[0maux_params\u001b[0m\u001b[0;34m)\u001b[0m\u001b[0;34m\u001b[0m\u001b[0;34m\u001b[0m\u001b[0m\n\u001b[1;32m    484\u001b[0m \u001b[0;34m\u001b[0m\u001b[0m\n",
            "\u001b[0;32m/content/drive/My Drive/Kaggle/nexet/nexet/Monk_Object_Detection/3_mxrcnn/lib/mx-rcnn/symnet/model.py\u001b[0m in \u001b[0;36mload_param\u001b[0;34m(params, ctx)\u001b[0m\n\u001b[1;32m      6\u001b[0m     \u001b[0;32mif\u001b[0m \u001b[0mctx\u001b[0m \u001b[0;32mis\u001b[0m \u001b[0;32mNone\u001b[0m\u001b[0;34m:\u001b[0m\u001b[0;34m\u001b[0m\u001b[0;34m\u001b[0m\u001b[0m\n\u001b[1;32m      7\u001b[0m         \u001b[0mctx\u001b[0m \u001b[0;34m=\u001b[0m \u001b[0mmx\u001b[0m\u001b[0;34m.\u001b[0m\u001b[0mcpu\u001b[0m\u001b[0;34m(\u001b[0m\u001b[0;34m)\u001b[0m\u001b[0;34m\u001b[0m\u001b[0;34m\u001b[0m\u001b[0m\n\u001b[0;32m----> 8\u001b[0;31m     \u001b[0msave_dict\u001b[0m \u001b[0;34m=\u001b[0m \u001b[0mmx\u001b[0m\u001b[0;34m.\u001b[0m\u001b[0mnd\u001b[0m\u001b[0;34m.\u001b[0m\u001b[0mload\u001b[0m\u001b[0;34m(\u001b[0m\u001b[0mparams\u001b[0m\u001b[0;34m)\u001b[0m\u001b[0;34m\u001b[0m\u001b[0;34m\u001b[0m\u001b[0m\n\u001b[0m\u001b[1;32m      9\u001b[0m     \u001b[0marg_params\u001b[0m \u001b[0;34m=\u001b[0m \u001b[0;34m{\u001b[0m\u001b[0;34m}\u001b[0m\u001b[0;34m\u001b[0m\u001b[0;34m\u001b[0m\u001b[0m\n\u001b[1;32m     10\u001b[0m     \u001b[0maux_params\u001b[0m \u001b[0;34m=\u001b[0m \u001b[0;34m{\u001b[0m\u001b[0;34m}\u001b[0m\u001b[0;34m\u001b[0m\u001b[0;34m\u001b[0m\u001b[0m\n",
            "\u001b[0;32m/usr/local/lib/python3.6/dist-packages/mxnet/ndarray/utils.py\u001b[0m in \u001b[0;36mload\u001b[0;34m(fname)\u001b[0m\n\u001b[1;32m    173\u001b[0m                                   \u001b[0mctypes\u001b[0m\u001b[0;34m.\u001b[0m\u001b[0mbyref\u001b[0m\u001b[0;34m(\u001b[0m\u001b[0mhandles\u001b[0m\u001b[0;34m)\u001b[0m\u001b[0;34m,\u001b[0m\u001b[0;34m\u001b[0m\u001b[0;34m\u001b[0m\u001b[0m\n\u001b[1;32m    174\u001b[0m                                   \u001b[0mctypes\u001b[0m\u001b[0;34m.\u001b[0m\u001b[0mbyref\u001b[0m\u001b[0;34m(\u001b[0m\u001b[0mout_name_size\u001b[0m\u001b[0;34m)\u001b[0m\u001b[0;34m,\u001b[0m\u001b[0;34m\u001b[0m\u001b[0;34m\u001b[0m\u001b[0m\n\u001b[0;32m--> 175\u001b[0;31m                                   ctypes.byref(names)))\n\u001b[0m\u001b[1;32m    176\u001b[0m     \u001b[0;32mif\u001b[0m \u001b[0mout_name_size\u001b[0m\u001b[0;34m.\u001b[0m\u001b[0mvalue\u001b[0m \u001b[0;34m==\u001b[0m \u001b[0;36m0\u001b[0m\u001b[0;34m:\u001b[0m\u001b[0;34m\u001b[0m\u001b[0;34m\u001b[0m\u001b[0m\n\u001b[1;32m    177\u001b[0m         \u001b[0;32mreturn\u001b[0m \u001b[0;34m[\u001b[0m\u001b[0m_ndarray_cls\u001b[0m\u001b[0;34m(\u001b[0m\u001b[0mNDArrayHandle\u001b[0m\u001b[0;34m(\u001b[0m\u001b[0mhandles\u001b[0m\u001b[0;34m[\u001b[0m\u001b[0mi\u001b[0m\u001b[0;34m]\u001b[0m\u001b[0;34m)\u001b[0m\u001b[0;34m)\u001b[0m \u001b[0;32mfor\u001b[0m \u001b[0mi\u001b[0m \u001b[0;32min\u001b[0m \u001b[0mrange\u001b[0m\u001b[0;34m(\u001b[0m\u001b[0mout_size\u001b[0m\u001b[0;34m.\u001b[0m\u001b[0mvalue\u001b[0m\u001b[0;34m)\u001b[0m\u001b[0;34m]\u001b[0m\u001b[0;34m\u001b[0m\u001b[0;34m\u001b[0m\u001b[0m\n",
            "\u001b[0;32m/usr/local/lib/python3.6/dist-packages/mxnet/base.py\u001b[0m in \u001b[0;36mcheck_call\u001b[0;34m(ret)\u001b[0m\n\u001b[1;32m    251\u001b[0m     \"\"\"\n\u001b[1;32m    252\u001b[0m     \u001b[0;32mif\u001b[0m \u001b[0mret\u001b[0m \u001b[0;34m!=\u001b[0m \u001b[0;36m0\u001b[0m\u001b[0;34m:\u001b[0m\u001b[0;34m\u001b[0m\u001b[0;34m\u001b[0m\u001b[0m\n\u001b[0;32m--> 253\u001b[0;31m         \u001b[0;32mraise\u001b[0m \u001b[0mMXNetError\u001b[0m\u001b[0;34m(\u001b[0m\u001b[0mpy_str\u001b[0m\u001b[0;34m(\u001b[0m\u001b[0m_LIB\u001b[0m\u001b[0;34m.\u001b[0m\u001b[0mMXGetLastError\u001b[0m\u001b[0;34m(\u001b[0m\u001b[0;34m)\u001b[0m\u001b[0;34m)\u001b[0m\u001b[0;34m)\u001b[0m\u001b[0;34m\u001b[0m\u001b[0;34m\u001b[0m\u001b[0m\n\u001b[0m\u001b[1;32m    254\u001b[0m \u001b[0;34m\u001b[0m\u001b[0m\n\u001b[1;32m    255\u001b[0m \u001b[0;34m\u001b[0m\u001b[0m\n",
            "\u001b[0;31mMXNetError\u001b[0m: [01:14:49] src/io/local_filesys.cc:209: Check failed: allow_null:  LocalFileSystem::Open \"pretrained/vgg16-0000.params\": No such file or directory\nStack trace:\n  [bt] (0) /usr/local/lib/python3.6/dist-packages/mxnet/libmxnet.so(+0x2ea6de8) [0x7f8278c67de8]\n  [bt] (1) /usr/local/lib/python3.6/dist-packages/mxnet/libmxnet.so(+0x2e9e9ba) [0x7f8278c5f9ba]\n  [bt] (2) /usr/local/lib/python3.6/dist-packages/mxnet/libmxnet.so(MXNDArrayLoad+0x23d) [0x7f82782ee5ed]\n  [bt] (3) /usr/lib/x86_64-linux-gnu/libffi.so.6(ffi_call_unix64+0x4c) [0x7f82d0aa0dae]\n  [bt] (4) /usr/lib/x86_64-linux-gnu/libffi.so.6(ffi_call+0x22f) [0x7f82d0aa071f]\n  [bt] (5) /usr/lib/python3.6/lib-dynload/_ctypes.cpython-36m-x86_64-linux-gnu.so(_ctypes_callproc+0x2b4) [0x7f82d0cb45c4]\n  [bt] (6) /usr/lib/python3.6/lib-dynload/_ctypes.cpython-36m-x86_64-linux-gnu.so(+0x11c33) [0x7f82d0cb4c33]\n  [bt] (7) /usr/bin/python3(_PyObject_FastCallKeywords+0x19c) [0x5a9eec]\n  [bt] (8) /usr/bin/python3() [0x50a783]\n\n"
          ]
        }
      ]
    }
  ]
}