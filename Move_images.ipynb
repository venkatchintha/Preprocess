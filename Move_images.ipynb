{
  "nbformat": 4,
  "nbformat_minor": 0,
  "metadata": {
    "colab": {
      "name": "Move images.ipynb",
      "provenance": [],
      "authorship_tag": "ABX9TyPnrZPdujU21/noru9h8EQF",
      "include_colab_link": true
    },
    "kernelspec": {
      "name": "python3",
      "display_name": "Python 3"
    }
  },
  "cells": [
    {
      "cell_type": "markdown",
      "metadata": {
        "id": "view-in-github",
        "colab_type": "text"
      },
      "source": [
        "<a href=\"https://colab.research.google.com/github/venkatchintha/Project0/blob/master/Move_images.ipynb\" target=\"_parent\"><img src=\"https://colab.research.google.com/assets/colab-badge.svg\" alt=\"Open In Colab\"/></a>"
      ]
    },
    {
      "cell_type": "code",
      "metadata": {
        "id": "AQUQjW9tOmZd",
        "colab_type": "code",
        "colab": {
          "base_uri": "https://localhost:8080/"
        },
        "outputId": "5f00b120-79c1-4467-e3d3-b65fd57d0fd5"
      },
      "source": [
        "from google.colab import drive\n",
        "drive.mount('/content/drive')"
      ],
      "execution_count": 28,
      "outputs": [
        {
          "output_type": "stream",
          "text": [
            "Drive already mounted at /content/drive; to attempt to forcibly remount, call drive.mount(\"/content/drive\", force_remount=True).\n"
          ],
          "name": "stdout"
        }
      ]
    },
    {
      "cell_type": "code",
      "metadata": {
        "id": "QMjLKuA7O2PP",
        "colab_type": "code",
        "colab": {
          "base_uri": "https://localhost:8080/",
          "height": 34
        },
        "outputId": "ba538acc-b835-4722-d92d-4f462e5285e9"
      },
      "source": [
        "%cd  /content/drive/My Drive/Kaggle/nexet/nexet/nexet_2017_1"
      ],
      "execution_count": null,
      "outputs": [
        {
          "output_type": "stream",
          "text": [
            "/content/drive/My Drive/Kaggle/nexet/nexet/nexet_2017_1\n"
          ],
          "name": "stdout"
        }
      ]
    },
    {
      "cell_type": "code",
      "metadata": {
        "id": "IAEWGZYBPBZq",
        "colab_type": "code",
        "colab": {}
      },
      "source": [
        "import subprocess\n",
        "import sys\n",
        "import os, shutil\n",
        "import csv\n",
        "import pandas as pd\n",
        "from csv import reader"
      ],
      "execution_count": null,
      "outputs": []
    },
    {
      "cell_type": "code",
      "metadata": {
        "id": "eHYz3LnC_5Nt",
        "colab_type": "code",
        "colab": {}
      },
      "source": [
        "image_name = [x for x in os.listdir('/content/drive/My Drive/Kaggle/nexet/nexet/nexet_2017_1') if x.endswith(\".jpg\")]\n",
        "\n"
      ],
      "execution_count": null,
      "outputs": []
    },
    {
      "cell_type": "code",
      "metadata": {
        "id": "9RczYpDyDutU",
        "colab_type": "code",
        "colab": {}
      },
      "source": [
        "rows =[]\n",
        "\n",
        "with open('/content/drive/My Drive/Kaggle/nexet/nexet/train_labels.csv', 'r') as read_obj:\n",
        "  csvreader = csv.reader(read_obj)\n",
        "  for row in csvreader:\n",
        "    rows.append(row)\n",
        "    print(\"total no of rows: %d\"% (csvreader.line_num))\n",
        "    "
      ],
      "execution_count": null,
      "outputs": []
    },
    {
      "cell_type": "code",
      "metadata": {
        "id": "V8IaHNEYfscL",
        "colab_type": "code",
        "colab": {
          "base_uri": "https://localhost:8080/"
        },
        "outputId": "ae5fb6c5-110b-499f-fcbe-83a6dab6cdbb"
      },
      "source": [
        "for i in image_name:\n",
        "  for j in rows:\n",
        "    if i != j:\n",
        "    shutil.move(os.path.join(filename,directory),Test_images)  \n",
        "\n"
      ],
      "execution_count": null,
      "outputs": [
        {
          "output_type": "error",
          "ename": "IndentationError",
          "evalue": "ignored",
          "traceback": [
            "\u001b[0;36m  File \u001b[0;32m\"<ipython-input-25-bec7c922d862>\"\u001b[0;36m, line \u001b[0;32m4\u001b[0m\n\u001b[0;31m    shutil.move(os.path.join(filename,directory),Test_images)\u001b[0m\n\u001b[0m         ^\u001b[0m\n\u001b[0;31mIndentationError\u001b[0m\u001b[0;31m:\u001b[0m expected an indented block\n"
          ]
        }
      ]
    }
  ]
}