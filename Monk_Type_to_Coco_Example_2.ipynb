{
  "nbformat": 4,
  "nbformat_minor": 0,
  "metadata": {
    "kernelspec": {
      "display_name": "Python 3",
      "language": "python",
      "name": "python3"
    },
    "language_info": {
      "codemirror_mode": {
        "name": "ipython",
        "version": 3
      },
      "file_extension": ".py",
      "mimetype": "text/x-python",
      "name": "python",
      "nbconvert_exporter": "python",
      "pygments_lexer": "ipython3",
      "version": "3.6.9"
    },
    "colab": {
      "name": "Copy of Monk Type to Coco - Example 2.ipynb",
      "provenance": [],
      "include_colab_link": true
    }
  },
  "cells": [
    {
      "cell_type": "markdown",
      "metadata": {
        "id": "view-in-github",
        "colab_type": "text"
      },
      "source": [
        "<a href=\"https://colab.research.google.com/github/venkatchintha/Project0/blob/master/Monk_Type_to_Coco_Example_2.ipynb\" target=\"_parent\"><img src=\"https://colab.research.google.com/assets/colab-badge.svg\" alt=\"Open In Colab\"/></a>"
      ]
    },
    {
      "cell_type": "markdown",
      "metadata": {
        "id": "SnFgZ6Lgsgu5",
        "colab_type": "text"
      },
      "source": [
        "<a href=\"https://colab.research.google.com/github/Tessellate-Imaging/Monk_Object_Detection/blob/master/example_notebooks/3_mxrcnn/Monk%20Type%20to%20Coco%20-%20Example%202.ipynb\" target=\"_parent\"><img src=\"https://colab.research.google.com/assets/colab-badge.svg\" alt=\"Open In Colab\"/></a>"
      ]
    },
    {
      "cell_type": "code",
      "metadata": {
        "id": "lXGz9V7gsgu9",
        "colab_type": "code",
        "colab": {
          "base_uri": "https://localhost:8080/",
          "height": 122
        },
        "outputId": "d4d82f92-a313-4e98-8806-b346de5f7edf"
      },
      "source": [
        "from google.colab import drive\n",
        "drive.mount('/content/drive')"
      ],
      "execution_count": 1,
      "outputs": [
        {
          "output_type": "stream",
          "text": [
            "Go to this URL in a browser: https://accounts.google.com/o/oauth2/auth?client_id=947318989803-6bn6qk8qdgf4n4g3pfee6491hc0brc4i.apps.googleusercontent.com&redirect_uri=urn%3aietf%3awg%3aoauth%3a2.0%3aoob&response_type=code&scope=email%20https%3a%2f%2fwww.googleapis.com%2fauth%2fdocs.test%20https%3a%2f%2fwww.googleapis.com%2fauth%2fdrive%20https%3a%2f%2fwww.googleapis.com%2fauth%2fdrive.photos.readonly%20https%3a%2f%2fwww.googleapis.com%2fauth%2fpeopleapi.readonly\n",
            "\n",
            "Enter your authorization code:\n",
            "··········\n",
            "Mounted at /content/drive\n"
          ],
          "name": "stdout"
        }
      ]
    },
    {
      "cell_type": "code",
      "metadata": {
        "id": "leeyfme5sgvM",
        "colab_type": "code",
        "colab": {}
      },
      "source": [
        ""
      ],
      "execution_count": null,
      "outputs": []
    },
    {
      "cell_type": "code",
      "metadata": {
        "id": "GjG6BITZsgvZ",
        "colab_type": "code",
        "colab": {}
      },
      "source": [
        ""
      ],
      "execution_count": null,
      "outputs": []
    },
    {
      "cell_type": "markdown",
      "metadata": {
        "id": "0HSmrBejsgvm",
        "colab_type": "text"
      },
      "source": [
        "# Installation\n",
        "\n",
        " - Run these commands\n",
        "     \n",
        "     - git clone https://github.com/Tessellate-Imaging/Monk_Object_Detection.git\n",
        "     \n",
        "     - cd Monk_Object_Detection/3_mxrcnn/installation\n",
        "     \n",
        " - Select the right requirements file and run\n",
        " \n",
        "     - cat requirements_cuda9.0.txt | xargs -n 1 -L 1 pip install"
      ]
    },
    {
      "cell_type": "code",
      "metadata": {
        "id": "iGqYQoD2sgvn",
        "colab_type": "code",
        "colab": {
          "base_uri": "https://localhost:8080/",
          "height": 153
        },
        "outputId": "8938f1cd-7bcf-4ced-957f-74ec04c50533"
      },
      "source": [
        "! git clone https://github.com/Tessellate-Imaging/Monk_Object_Detection.git"
      ],
      "execution_count": 2,
      "outputs": [
        {
          "output_type": "stream",
          "text": [
            "Cloning into 'Monk_Object_Detection'...\n",
            "remote: Enumerating objects: 158, done.\u001b[K\n",
            "remote: Counting objects: 100% (158/158), done.\u001b[K\n",
            "remote: Compressing objects: 100% (127/127), done.\u001b[K\n",
            "remote: Total 6898 (delta 80), reused 62 (delta 31), pack-reused 6740\u001b[K\n",
            "Receiving objects: 100% (6898/6898), 205.31 MiB | 14.31 MiB/s, done.\n",
            "Resolving deltas: 100% (2691/2691), done.\n",
            "Checking out files: 100% (5499/5499), done.\n"
          ],
          "name": "stdout"
        }
      ]
    },
    {
      "cell_type": "code",
      "metadata": {
        "id": "xcW3G5MYsgvw",
        "colab_type": "code",
        "colab": {
          "base_uri": "https://localhost:8080/",
          "height": 680
        },
        "outputId": "85cf51f9-acf6-4242-d275-db078150988f"
      },
      "source": [
        "# For colab use the command below\n",
        "! cd Monk_Object_Detection/3_mxrcnn/installation && cat requirements_colab.txt | xargs -n 1 -L 1 pip install\n",
        "\n",
        "\n",
        "# For Local systems and cloud select the right CUDA version\n",
        "#! cd Monk_Object_Detection/3_mxrcnn/installation && cat requirements_cuda9.0.txt | xargs -n 1 -L 1 pip install"
      ],
      "execution_count": 3,
      "outputs": [
        {
          "output_type": "stream",
          "text": [
            "Collecting mxnet-cu100\n",
            "\u001b[?25l  Downloading https://files.pythonhosted.org/packages/3d/84/d098e0607ee6207448b6af65315f5d45946b49e4f48160eade6cdd64ce4e/mxnet_cu100-1.5.1.post0-py2.py3-none-manylinux1_x86_64.whl (540.1MB)\n",
            "\u001b[K     |████████████████████████████████| 540.1MB 27kB/s \n",
            "\u001b[?25hRequirement already satisfied: numpy<2.0.0,>1.16.0 in /usr/local/lib/python3.6/dist-packages (from mxnet-cu100) (1.18.5)\n",
            "Requirement already satisfied: requests<3,>=2.20.0 in /usr/local/lib/python3.6/dist-packages (from mxnet-cu100) (2.23.0)\n",
            "Collecting graphviz<0.9.0,>=0.8.1\n",
            "  Downloading https://files.pythonhosted.org/packages/53/39/4ab213673844e0c004bed8a0781a0721a3f6bb23eb8854ee75c236428892/graphviz-0.8.4-py2.py3-none-any.whl\n",
            "Requirement already satisfied: chardet<4,>=3.0.2 in /usr/local/lib/python3.6/dist-packages (from requests<3,>=2.20.0->mxnet-cu100) (3.0.4)\n",
            "Requirement already satisfied: idna<3,>=2.5 in /usr/local/lib/python3.6/dist-packages (from requests<3,>=2.20.0->mxnet-cu100) (2.10)\n",
            "Requirement already satisfied: certifi>=2017.4.17 in /usr/local/lib/python3.6/dist-packages (from requests<3,>=2.20.0->mxnet-cu100) (2020.6.20)\n",
            "Requirement already satisfied: urllib3!=1.25.0,!=1.25.1,<1.26,>=1.21.1 in /usr/local/lib/python3.6/dist-packages (from requests<3,>=2.20.0->mxnet-cu100) (1.24.3)\n",
            "Installing collected packages: graphviz, mxnet-cu100\n",
            "  Found existing installation: graphviz 0.10.1\n",
            "    Uninstalling graphviz-0.10.1:\n",
            "      Successfully uninstalled graphviz-0.10.1\n",
            "Successfully installed graphviz-0.8.4 mxnet-cu100-1.5.1.post0\n",
            "Collecting dicttoxml\n",
            "  Downloading https://files.pythonhosted.org/packages/74/36/534db111db9e7610a41641a1f6669a964aacaf51858f466de264cc8dcdd9/dicttoxml-1.7.4.tar.gz\n",
            "Building wheels for collected packages: dicttoxml\n",
            "  Building wheel for dicttoxml (setup.py) ... \u001b[?25l\u001b[?25hdone\n",
            "  Created wheel for dicttoxml: filename=dicttoxml-1.7.4-cp36-none-any.whl size=17452 sha256=6a6791455241d64d59f2343984bc528b97d18676e506c053b007165eba0acc38\n",
            "  Stored in directory: /root/.cache/pip/wheels/62/4f/a3/afd4a68f5add45a668c14efa53b64d5cffb2be6bacf993c151\n",
            "Successfully built dicttoxml\n",
            "Installing collected packages: dicttoxml\n",
            "Successfully installed dicttoxml-1.7.4\n",
            "Collecting xmltodict\n",
            "  Downloading https://files.pythonhosted.org/packages/28/fd/30d5c1d3ac29ce229f6bdc40bbc20b28f716e8b363140c26eff19122d8a5/xmltodict-0.12.0-py2.py3-none-any.whl\n",
            "Installing collected packages: xmltodict\n",
            "Successfully installed xmltodict-0.12.0\n",
            "Requirement already satisfied: pycocotools from git+https://github.com/abhi-kumar/cocoapi.git#egg=pycocotools&subdirectory=PythonAPI in /usr/local/lib/python3.6/dist-packages (2.0.1)\n",
            "Requirement already satisfied: matplotlib>=2.1.0 in /usr/local/lib/python3.6/dist-packages (from pycocotools) (3.2.2)\n",
            "Requirement already satisfied: cython>=0.27.3 in /usr/local/lib/python3.6/dist-packages (from pycocotools) (0.29.21)\n",
            "Requirement already satisfied: setuptools>=18.0 in /usr/local/lib/python3.6/dist-packages (from pycocotools) (49.2.0)\n",
            "Requirement already satisfied: kiwisolver>=1.0.1 in /usr/local/lib/python3.6/dist-packages (from matplotlib>=2.1.0->pycocotools) (1.2.0)\n",
            "Requirement already satisfied: numpy>=1.11 in /usr/local/lib/python3.6/dist-packages (from matplotlib>=2.1.0->pycocotools) (1.18.5)\n",
            "Requirement already satisfied: pyparsing!=2.0.4,!=2.1.2,!=2.1.6,>=2.0.1 in /usr/local/lib/python3.6/dist-packages (from matplotlib>=2.1.0->pycocotools) (2.4.7)\n",
            "Requirement already satisfied: python-dateutil>=2.1 in /usr/local/lib/python3.6/dist-packages (from matplotlib>=2.1.0->pycocotools) (2.8.1)\n",
            "Requirement already satisfied: cycler>=0.10 in /usr/local/lib/python3.6/dist-packages (from matplotlib>=2.1.0->pycocotools) (0.10.0)\n",
            "Requirement already satisfied: six>=1.5 in /usr/local/lib/python3.6/dist-packages (from python-dateutil>=2.1->matplotlib>=2.1.0->pycocotools) (1.15.0)\n"
          ],
          "name": "stdout"
        }
      ]
    },
    {
      "cell_type": "code",
      "metadata": {
        "id": "yI1momifsgv9",
        "colab_type": "code",
        "colab": {}
      },
      "source": [
        ""
      ],
      "execution_count": null,
      "outputs": []
    },
    {
      "cell_type": "code",
      "metadata": {
        "id": "6nD5oD3lsgwL",
        "colab_type": "code",
        "colab": {}
      },
      "source": [
        ""
      ],
      "execution_count": null,
      "outputs": []
    },
    {
      "cell_type": "code",
      "metadata": {
        "id": "24wgYhTssgwU",
        "colab_type": "code",
        "colab": {}
      },
      "source": [
        ""
      ],
      "execution_count": null,
      "outputs": []
    },
    {
      "cell_type": "code",
      "metadata": {
        "id": "UdiKsLPJsgwd",
        "colab_type": "code",
        "colab": {}
      },
      "source": [
        ""
      ],
      "execution_count": null,
      "outputs": []
    },
    {
      "cell_type": "code",
      "metadata": {
        "id": "1VxXCmsmsgwk",
        "colab_type": "code",
        "colab": {}
      },
      "source": [
        ""
      ],
      "execution_count": null,
      "outputs": []
    },
    {
      "cell_type": "markdown",
      "metadata": {
        "id": "wIMAQuGMsgwq",
        "colab_type": "text"
      },
      "source": [
        "# Monk Format\n",
        "\n",
        "## Dataset Directory Structure\n",
        "\n",
        "    ../sample_dataset/ship (root)\n",
        "          |\n",
        "          |-----------Images (img_dir)\n",
        "          |              |\n",
        "          |              |------------------img1.jpg\n",
        "          |              |------------------img2.jpg\n",
        "          |              |------------------.........(and so on)\n",
        "          |\n",
        "          |\n",
        "          |-----------train_labels.csv (anno_file)\n",
        "          \n",
        "          \n",
        "## Annotation file format\n",
        "\n",
        "           | Id         | Labels                                 |\n",
        "           | img1.jpg   | x1 y1 x2 y2 label1 x1 y1 x2 y2 label2  |\n",
        "           \n",
        "- Labels:  xmin ymin xmax ymax label\n",
        "- xmin, ymin - top left corner of bounding box\n",
        "- xmax, ymax - bottom right corner of bounding box"
      ]
    },
    {
      "cell_type": "code",
      "metadata": {
        "id": "IbyajhM9sgwr",
        "colab_type": "code",
        "colab": {}
      },
      "source": [
        ""
      ],
      "execution_count": null,
      "outputs": []
    },
    {
      "cell_type": "markdown",
      "metadata": {
        "id": "GDTwXP5msgww",
        "colab_type": "text"
      },
      "source": [
        "# COCO Format\n",
        "\n",
        "## Dataset Directory Structure\n",
        "\n",
        "    ../sample_dataset (root_dir)\n",
        "          |\n",
        "          |------ship (coco_dir) \n",
        "          |         |\n",
        "          |         |---Images (img_dir)\n",
        "          |         |----|\n",
        "          |              |-------------------img1.jpg\n",
        "          |              |-------------------img2.jpg\n",
        "          |              |-------------------.........(and so on)\n",
        "          |\n",
        "          |\n",
        "          |         |---annotations (anno_dir)\n",
        "          |         |----|\n",
        "          |              |--------------------instances_Train.json \n",
        "          |              |--------------------classes.txt\n",
        "          \n",
        "          \n",
        " - instances_Train.json -> In proper COCO format\n",
        " - classes.txt          -> A list of classes in alphabetical order\n",
        "          "
      ]
    },
    {
      "cell_type": "code",
      "metadata": {
        "id": "Qiw4lE25sgwz",
        "colab_type": "code",
        "colab": {}
      },
      "source": [
        ""
      ],
      "execution_count": null,
      "outputs": []
    },
    {
      "cell_type": "code",
      "metadata": {
        "id": "NpP7zpMPsgw3",
        "colab_type": "code",
        "colab": {}
      },
      "source": [
        ""
      ],
      "execution_count": null,
      "outputs": []
    },
    {
      "cell_type": "code",
      "metadata": {
        "id": "pf3sHRPCsgw6",
        "colab_type": "code",
        "colab": {}
      },
      "source": [
        ""
      ],
      "execution_count": null,
      "outputs": []
    },
    {
      "cell_type": "code",
      "metadata": {
        "id": "mu16SiE_sgw-",
        "colab_type": "code",
        "colab": {}
      },
      "source": [
        "import os\n",
        "import numpy as np \n",
        "import cv2\n",
        "import dicttoxml\n",
        "import xml.etree.ElementTree as ET\n",
        "from xml.dom.minidom import parseString\n",
        "from tqdm import tqdm\n",
        "import shutil\n",
        "import json\n",
        "import pandas as pd"
      ],
      "execution_count": 4,
      "outputs": []
    },
    {
      "cell_type": "code",
      "metadata": {
        "id": "2LqiJmx6sgxC",
        "colab_type": "code",
        "colab": {}
      },
      "source": [
        ""
      ],
      "execution_count": null,
      "outputs": []
    },
    {
      "cell_type": "code",
      "metadata": {
        "id": "ObL2KedVsgxH",
        "colab_type": "code",
        "colab": {}
      },
      "source": [
        ""
      ],
      "execution_count": null,
      "outputs": []
    },
    {
      "cell_type": "markdown",
      "metadata": {
        "id": "5ZCBUNrLsgxO",
        "colab_type": "text"
      },
      "source": [
        "# Sample Dataset Credits\n",
        "\n",
        "- credits: https://github.com/experiencor/kangaroo"
      ]
    },
    {
      "cell_type": "code",
      "metadata": {
        "id": "_NkaT3dWsgxP",
        "colab_type": "code",
        "colab": {}
      },
      "source": [
        "# Provide details on directory in Monk Format"
      ],
      "execution_count": null,
      "outputs": []
    },
    {
      "cell_type": "code",
      "metadata": {
        "id": "90RooYSysgxS",
        "colab_type": "code",
        "colab": {}
      },
      "source": [
        "\n",
        "root= \"/content/drive/My Drive/Kaggle/nexet/nexet\";\n",
        "img_dir = \"nexet_2017_1/\";\n",
        "anno_file = \"/train_labels.csv\";"
      ],
      "execution_count": 5,
      "outputs": []
    },
    {
      "cell_type": "code",
      "metadata": {
        "id": "0OKJy-W8sgxW",
        "colab_type": "code",
        "colab": {}
      },
      "source": [
        ""
      ],
      "execution_count": null,
      "outputs": []
    },
    {
      "cell_type": "code",
      "metadata": {
        "id": "K_TRFHKusgxa",
        "colab_type": "code",
        "colab": {}
      },
      "source": [
        "# Need not change anything below"
      ],
      "execution_count": null,
      "outputs": []
    },
    {
      "cell_type": "code",
      "metadata": {
        "id": "SWZn6DuKsgxd",
        "colab_type": "code",
        "colab": {}
      },
      "source": [
        "dataset_path = root;\n",
        "images_folder = root + \"/\" + img_dir;\n",
        "annotations_path = root + \"/annotations/\";"
      ],
      "execution_count": 6,
      "outputs": []
    },
    {
      "cell_type": "code",
      "metadata": {
        "id": "2M_cWQ0Rsgxg",
        "colab_type": "code",
        "colab": {}
      },
      "source": [
        "if not os.path.isdir(annotations_path):\n",
        "    os.mkdir(annotations_path)\n",
        "    \n",
        "input_images_folder = images_folder;\n",
        "input_annotations_path = root + \"/\" + anno_file;"
      ],
      "execution_count": 7,
      "outputs": []
    },
    {
      "cell_type": "code",
      "metadata": {
        "id": "HVvgqy7Gsgxk",
        "colab_type": "code",
        "colab": {}
      },
      "source": [
        ""
      ],
      "execution_count": null,
      "outputs": []
    },
    {
      "cell_type": "code",
      "metadata": {
        "id": "ufXpQBaxsgxp",
        "colab_type": "code",
        "colab": {}
      },
      "source": [
        ""
      ],
      "execution_count": null,
      "outputs": []
    },
    {
      "cell_type": "code",
      "metadata": {
        "id": "F8K_9myzsgxs",
        "colab_type": "code",
        "colab": {}
      },
      "source": [
        "output_dataset_path = root;\n",
        "output_image_folder = input_images_folder;\n",
        "output_annotation_folder = annotations_path;\n",
        "\n",
        "tmp = img_dir.replace(\"/\", \"\");\n",
        "output_annotation_file = output_annotation_folder + \"/instances_\" + tmp + \".json\";\n",
        "output_classes_file = output_annotation_folder + \"/classes.txt\";"
      ],
      "execution_count": 8,
      "outputs": []
    },
    {
      "cell_type": "code",
      "metadata": {
        "id": "-Qqiv7L3sgxw",
        "colab_type": "code",
        "colab": {}
      },
      "source": [
        "if not os.path.isdir(output_annotation_folder):\n",
        "    os.mkdir(output_annotation_folder);"
      ],
      "execution_count": 9,
      "outputs": []
    },
    {
      "cell_type": "code",
      "metadata": {
        "id": "gA6LS4dLsgxz",
        "colab_type": "code",
        "colab": {}
      },
      "source": [
        ""
      ],
      "execution_count": null,
      "outputs": []
    },
    {
      "cell_type": "code",
      "metadata": {
        "id": "6IY6N9VQsgx5",
        "colab_type": "code",
        "colab": {}
      },
      "source": [
        ""
      ],
      "execution_count": null,
      "outputs": []
    },
    {
      "cell_type": "code",
      "metadata": {
        "id": "oPYGqhxKsgx8",
        "colab_type": "code",
        "colab": {}
      },
      "source": [
        ""
      ],
      "execution_count": null,
      "outputs": []
    },
    {
      "cell_type": "code",
      "metadata": {
        "id": "8XqikK6psgyD",
        "colab_type": "code",
        "colab": {}
      },
      "source": [
        "df = pd.read_csv(input_annotations_path);\n",
        "columns = df.columns"
      ],
      "execution_count": 10,
      "outputs": []
    },
    {
      "cell_type": "code",
      "metadata": {
        "id": "Z6jwT_sAsgyI",
        "colab_type": "code",
        "colab": {}
      },
      "source": [
        "delimiter = \" \";"
      ],
      "execution_count": 11,
      "outputs": []
    },
    {
      "cell_type": "code",
      "metadata": {
        "id": "vIwM7_rzsgyO",
        "colab_type": "code",
        "colab": {
          "base_uri": "https://localhost:8080/",
          "height": 34
        },
        "outputId": "3c392de7-0cae-4791-8a29-0d424ff6cbf7"
      },
      "source": [
        "list_dict = [];\n",
        "anno = [];\n",
        "for i in range(len(df)):\n",
        "    img_name = df[columns[0]][i];\n",
        "    labels = df[columns[1]][i];\n",
        "    tmp = labels.split(delimiter);\n",
        "    for j in range(len(tmp)//5):\n",
        "        label = tmp[j*5+4];\n",
        "        if(label not in anno):\n",
        "            anno.append(label);\n",
        "    anno = sorted(anno)\n",
        "    \n",
        "for i in tqdm(range(len(anno))):\n",
        "    tmp = {};\n",
        "    tmp[\"supercategory\"] = \"master\";\n",
        "    tmp[\"id\"] = i;\n",
        "    tmp[\"name\"] = anno[i];\n",
        "    list_dict.append(tmp);\n",
        "\n",
        "anno_f = open(output_classes_file, 'w');\n",
        "for i in range(len(anno)):\n",
        "    anno_f.write(anno[i] + \"\\n\");\n",
        "anno_f.close();"
      ],
      "execution_count": 12,
      "outputs": [
        {
          "output_type": "stream",
          "text": [
            "100%|██████████| 5/5 [00:00<00:00, 12185.66it/s]\n"
          ],
          "name": "stderr"
        }
      ]
    },
    {
      "cell_type": "code",
      "metadata": {
        "id": "KUsw2eoxsgzU",
        "colab_type": "code",
        "colab": {}
      },
      "source": [
        ""
      ],
      "execution_count": null,
      "outputs": []
    },
    {
      "cell_type": "code",
      "metadata": {
        "id": "ixkHdRNosgzw",
        "colab_type": "code",
        "colab": {}
      },
      "source": [
        ""
      ],
      "execution_count": null,
      "outputs": []
    },
    {
      "cell_type": "code",
      "metadata": {
        "id": "IlMhhy8rsgz0",
        "colab_type": "code",
        "colab": {}
      },
      "source": [
        ""
      ],
      "execution_count": null,
      "outputs": []
    },
    {
      "cell_type": "code",
      "metadata": {
        "id": "fNWpe8v2sgz7",
        "colab_type": "code",
        "colab": {}
      },
      "source": [
        ""
      ],
      "execution_count": null,
      "outputs": []
    },
    {
      "cell_type": "code",
      "metadata": {
        "id": "OkpRyOXhsg0C",
        "colab_type": "code",
        "colab": {}
      },
      "source": [
        ""
      ],
      "execution_count": null,
      "outputs": []
    },
    {
      "cell_type": "code",
      "metadata": {
        "id": "ls3TPv4Asg0H",
        "colab_type": "code",
        "colab": {
          "base_uri": "https://localhost:8080/",
          "height": 248
        },
        "outputId": "d315fbd8-f8c3-4219-df73-595282494729"
      },
      "source": [
        "coco_data = {};\n",
        "coco_data[\"type\"] = \"instances\";\n",
        "coco_data[\"images\"] = [];\n",
        "coco_data[\"annotations\"] = [];\n",
        "coco_data[\"categories\"] = list_dict;\n",
        "image_id = 0;\n",
        "annotation_id = 0;\n",
        "\n",
        "\n",
        "for i in tqdm(range(len(df))):\n",
        "    img_name = df[columns[0]][i];\n",
        "    labels = df[columns[1]][i];\n",
        "    tmp = labels.split(delimiter);\n",
        "    image_in_path = input_images_folder + \"/\" + img_name;\n",
        "    img = cv2.imread(image_in_path, 1);\n",
        "    h, w, c = img.shape;\n",
        "\n",
        "    images_tmp = {};\n",
        "    images_tmp[\"file_name\"] = img_name;\n",
        "    images_tmp[\"height\"] = h;\n",
        "    images_tmp[\"width\"] = w;\n",
        "    images_tmp[\"id\"] = image_id;\n",
        "    coco_data[\"images\"].append(images_tmp);\n",
        "    \n",
        "\n",
        "    for j in range(len(tmp)//5):\n",
        "        x1 = int(tmp[j*5+0]);\n",
        "        y1 = int(tmp[j*5+1]);\n",
        "        x2 = int(tmp[j*5+2]);\n",
        "        y2 = int(tmp[j*5+3]);\n",
        "        label = tmp[j*5+4];\n",
        "        annotations_tmp = {};\n",
        "        annotations_tmp[\"id\"] = annotation_id;\n",
        "        annotation_id += 1;\n",
        "        annotations_tmp[\"image_id\"] = image_id;\n",
        "        annotations_tmp[\"segmentation\"] = [];\n",
        "        annotations_tmp[\"ignore\"] = 0;\n",
        "        annotations_tmp[\"area\"] = (x2-x1)*(y2-y1);\n",
        "        annotations_tmp[\"iscrowd\"] = 0;\n",
        "        annotations_tmp[\"bbox\"] = [x1, y1, x2-x1, y2-y1];\n",
        "        annotations_tmp[\"category_id\"] = anno.index(label);\n",
        "\n",
        "        coco_data[\"annotations\"].append(annotations_tmp)\n",
        "    image_id += 1;\n",
        "\n",
        "outfile =  open(output_annotation_file, 'w');\n",
        "json_str = json.dumps(coco_data, indent=4);\n",
        "outfile.write(json_str);\n",
        "outfile.close();"
      ],
      "execution_count": 13,
      "outputs": [
        {
          "output_type": "stream",
          "text": [
            "\r  0%|          | 0/49281 [00:00<?, ?it/s]"
          ],
          "name": "stderr"
        },
        {
          "output_type": "error",
          "ename": "KeyboardInterrupt",
          "evalue": "ignored",
          "traceback": [
            "\u001b[0;31m---------------------------------------------------------------------------\u001b[0m",
            "\u001b[0;31mKeyboardInterrupt\u001b[0m                         Traceback (most recent call last)",
            "\u001b[0;32m<ipython-input-13-656775cea7d7>\u001b[0m in \u001b[0;36m<module>\u001b[0;34m()\u001b[0m\n\u001b[1;32m     13\u001b[0m     \u001b[0mtmp\u001b[0m \u001b[0;34m=\u001b[0m \u001b[0mlabels\u001b[0m\u001b[0;34m.\u001b[0m\u001b[0msplit\u001b[0m\u001b[0;34m(\u001b[0m\u001b[0mdelimiter\u001b[0m\u001b[0;34m)\u001b[0m\u001b[0;34m;\u001b[0m\u001b[0;34m\u001b[0m\u001b[0;34m\u001b[0m\u001b[0m\n\u001b[1;32m     14\u001b[0m     \u001b[0mimage_in_path\u001b[0m \u001b[0;34m=\u001b[0m \u001b[0minput_images_folder\u001b[0m \u001b[0;34m+\u001b[0m \u001b[0;34m\"/\"\u001b[0m \u001b[0;34m+\u001b[0m \u001b[0mimg_name\u001b[0m\u001b[0;34m;\u001b[0m\u001b[0;34m\u001b[0m\u001b[0;34m\u001b[0m\u001b[0m\n\u001b[0;32m---> 15\u001b[0;31m     \u001b[0mimg\u001b[0m \u001b[0;34m=\u001b[0m \u001b[0mcv2\u001b[0m\u001b[0;34m.\u001b[0m\u001b[0mimread\u001b[0m\u001b[0;34m(\u001b[0m\u001b[0mimage_in_path\u001b[0m\u001b[0;34m,\u001b[0m \u001b[0;36m1\u001b[0m\u001b[0;34m)\u001b[0m\u001b[0;34m;\u001b[0m\u001b[0;34m\u001b[0m\u001b[0;34m\u001b[0m\u001b[0m\n\u001b[0m\u001b[1;32m     16\u001b[0m     \u001b[0mh\u001b[0m\u001b[0;34m,\u001b[0m \u001b[0mw\u001b[0m\u001b[0;34m,\u001b[0m \u001b[0mc\u001b[0m \u001b[0;34m=\u001b[0m \u001b[0mimg\u001b[0m\u001b[0;34m.\u001b[0m\u001b[0mshape\u001b[0m\u001b[0;34m;\u001b[0m\u001b[0;34m\u001b[0m\u001b[0;34m\u001b[0m\u001b[0m\n\u001b[1;32m     17\u001b[0m \u001b[0;34m\u001b[0m\u001b[0m\n",
            "\u001b[0;31mKeyboardInterrupt\u001b[0m: "
          ]
        }
      ]
    },
    {
      "cell_type": "code",
      "metadata": {
        "id": "4dt0qzafsg0O",
        "colab_type": "code",
        "colab": {}
      },
      "source": [
        ""
      ],
      "execution_count": null,
      "outputs": []
    },
    {
      "cell_type": "code",
      "metadata": {
        "id": "vPvQHTTgsg0V",
        "colab_type": "code",
        "colab": {}
      },
      "source": [
        ""
      ],
      "execution_count": null,
      "outputs": []
    },
    {
      "cell_type": "code",
      "metadata": {
        "id": "fra94Ee0sg0a",
        "colab_type": "code",
        "colab": {}
      },
      "source": [
        ""
      ],
      "execution_count": null,
      "outputs": []
    },
    {
      "cell_type": "code",
      "metadata": {
        "id": "t1hwU6xOsg0g",
        "colab_type": "code",
        "colab": {}
      },
      "source": [
        ""
      ],
      "execution_count": null,
      "outputs": []
    }
  ]
}