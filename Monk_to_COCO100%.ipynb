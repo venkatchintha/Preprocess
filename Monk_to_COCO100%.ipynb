{
  "nbformat": 4,
  "nbformat_minor": 0,
  "metadata": {
    "colab": {
      "name": "Monk to COCO.ipynb",
      "provenance": [],
      "authorship_tag": "ABX9TyPSmeo2KGvwDVi2ShJAWFef",
      "include_colab_link": true
    },
    "kernelspec": {
      "name": "python3",
      "display_name": "Python 3"
    }
  },
  "cells": [
    {
      "cell_type": "markdown",
      "metadata": {
        "id": "view-in-github",
        "colab_type": "text"
      },
      "source": [
        "<a href=\"https://colab.research.google.com/github/venkatchintha/Project0/blob/master/Monk_to_COCO100%25.ipynb\" target=\"_parent\"><img src=\"https://colab.research.google.com/assets/colab-badge.svg\" alt=\"Open In Colab\"/></a>"
      ]
    },
    {
      "cell_type": "code",
      "metadata": {
        "id": "qdUcHzGW194J",
        "colab_type": "code",
        "colab": {
          "base_uri": "https://localhost:8080/",
          "height": 34
        },
        "outputId": "51d08505-c86a-4f6b-ae36-28fde3e93727"
      },
      "source": [
        "from google.colab import drive\n",
        "drive.mount('/content/drive')"
      ],
      "execution_count": 2,
      "outputs": [
        {
          "output_type": "stream",
          "text": [
            "Drive already mounted at /content/drive; to attempt to forcibly remount, call drive.mount(\"/content/drive\", force_remount=True).\n"
          ],
          "name": "stdout"
        }
      ]
    },
    {
      "cell_type": "code",
      "metadata": {
        "id": "KUhUZAcR3WkT",
        "colab_type": "code",
        "colab": {
          "base_uri": "https://localhost:8080/",
          "height": 34
        },
        "outputId": "4dbaffa7-9737-4ff4-ef5d-f8de4615051b"
      },
      "source": [
        "%cd /content/drive/My Drive/Kaggle/nexet/nexet/"
      ],
      "execution_count": 3,
      "outputs": [
        {
          "output_type": "stream",
          "text": [
            "/content/drive/My Drive/Kaggle/nexet/nexet\n"
          ],
          "name": "stdout"
        }
      ]
    },
    {
      "cell_type": "code",
      "metadata": {
        "id": "jcFtkxe_2PMZ",
        "colab_type": "code",
        "colab": {
          "base_uri": "https://localhost:8080/",
          "height": 34
        },
        "outputId": "3d2b9388-b175-41fd-8d66-165ec939db44"
      },
      "source": [
        "! git clone https://github.com/Tessellate-Imaging/Monk_Object_Detection.git"
      ],
      "execution_count": 4,
      "outputs": [
        {
          "output_type": "stream",
          "text": [
            "fatal: destination path 'Monk_Object_Detection' already exists and is not an empty directory.\n"
          ],
          "name": "stdout"
        }
      ]
    },
    {
      "cell_type": "code",
      "metadata": {
        "id": "unIpHxlE2SRR",
        "colab_type": "code",
        "colab": {
          "base_uri": "https://localhost:8080/",
          "height": 357
        },
        "outputId": "0fcef171-a000-4a37-ab4f-27ddb0d45a99"
      },
      "source": [
        "! cd Monk_Object_Detection/3_mxrcnn/installation && cat requirements_colab.txt | xargs -n 1 -L 1 pip install"
      ],
      "execution_count": 5,
      "outputs": [
        {
          "output_type": "stream",
          "text": [
            "Requirement already satisfied: mxnet-cu100 in /usr/local/lib/python3.6/dist-packages (1.5.1.post0)\n",
            "Requirement already satisfied: numpy<2.0.0,>1.16.0 in /usr/local/lib/python3.6/dist-packages (from mxnet-cu100) (1.18.5)\n",
            "Requirement already satisfied: graphviz<0.9.0,>=0.8.1 in /usr/local/lib/python3.6/dist-packages (from mxnet-cu100) (0.8.4)\n",
            "Requirement already satisfied: requests<3,>=2.20.0 in /usr/local/lib/python3.6/dist-packages (from mxnet-cu100) (2.23.0)\n",
            "Requirement already satisfied: chardet<4,>=3.0.2 in /usr/local/lib/python3.6/dist-packages (from requests<3,>=2.20.0->mxnet-cu100) (3.0.4)\n",
            "Requirement already satisfied: urllib3!=1.25.0,!=1.25.1,<1.26,>=1.21.1 in /usr/local/lib/python3.6/dist-packages (from requests<3,>=2.20.0->mxnet-cu100) (1.24.3)\n",
            "Requirement already satisfied: idna<3,>=2.5 in /usr/local/lib/python3.6/dist-packages (from requests<3,>=2.20.0->mxnet-cu100) (2.10)\n",
            "Requirement already satisfied: certifi>=2017.4.17 in /usr/local/lib/python3.6/dist-packages (from requests<3,>=2.20.0->mxnet-cu100) (2020.6.20)\n",
            "Requirement already satisfied: dicttoxml in /usr/local/lib/python3.6/dist-packages (1.7.4)\n",
            "Requirement already satisfied: xmltodict in /usr/local/lib/python3.6/dist-packages (0.12.0)\n",
            "Requirement already satisfied: pycocotools from git+https://github.com/abhi-kumar/cocoapi.git#egg=pycocotools&subdirectory=PythonAPI in /usr/local/lib/python3.6/dist-packages (2.0.1)\n",
            "Requirement already satisfied: matplotlib>=2.1.0 in /usr/local/lib/python3.6/dist-packages (from pycocotools) (3.2.2)\n",
            "Requirement already satisfied: cython>=0.27.3 in /usr/local/lib/python3.6/dist-packages (from pycocotools) (0.29.21)\n",
            "Requirement already satisfied: setuptools>=18.0 in /usr/local/lib/python3.6/dist-packages (from pycocotools) (49.2.0)\n",
            "Requirement already satisfied: cycler>=0.10 in /usr/local/lib/python3.6/dist-packages (from matplotlib>=2.1.0->pycocotools) (0.10.0)\n",
            "Requirement already satisfied: kiwisolver>=1.0.1 in /usr/local/lib/python3.6/dist-packages (from matplotlib>=2.1.0->pycocotools) (1.2.0)\n",
            "Requirement already satisfied: pyparsing!=2.0.4,!=2.1.2,!=2.1.6,>=2.0.1 in /usr/local/lib/python3.6/dist-packages (from matplotlib>=2.1.0->pycocotools) (2.4.7)\n",
            "Requirement already satisfied: numpy>=1.11 in /usr/local/lib/python3.6/dist-packages (from matplotlib>=2.1.0->pycocotools) (1.18.5)\n",
            "Requirement already satisfied: python-dateutil>=2.1 in /usr/local/lib/python3.6/dist-packages (from matplotlib>=2.1.0->pycocotools) (2.8.1)\n",
            "Requirement already satisfied: six in /usr/local/lib/python3.6/dist-packages (from cycler>=0.10->matplotlib>=2.1.0->pycocotools) (1.15.0)\n"
          ],
          "name": "stdout"
        }
      ]
    },
    {
      "cell_type": "code",
      "metadata": {
        "id": "f5MEX3TB2VJd",
        "colab_type": "code",
        "colab": {}
      },
      "source": [
        "import os\n",
        "import numpy as np \n",
        "import cv2\n",
        "import dicttoxml\n",
        "import xml.etree.ElementTree as ET\n",
        "from xml.dom.minidom import parseString\n",
        "from tqdm import tqdm\n",
        "import shutil\n",
        "import json\n",
        "import pandas as pd"
      ],
      "execution_count": 6,
      "outputs": []
    },
    {
      "cell_type": "code",
      "metadata": {
        "id": "sSkUHPWP24JU",
        "colab_type": "code",
        "colab": {}
      },
      "source": [
        "root= \"/content/drive/My Drive/Kaggle/nexet/nexet\";\n",
        "img_dir = \"nexet_2017_1/\";\n",
        "anno_file = \"train_labels.csv\";"
      ],
      "execution_count": 7,
      "outputs": []
    },
    {
      "cell_type": "code",
      "metadata": {
        "id": "QbsRHFTs2Yer",
        "colab_type": "code",
        "colab": {}
      },
      "source": [
        "dataset_path = root;\n",
        "images_folder = root + \"/\" + img_dir;\n",
        "annotations_path = root + \"/annotations/\";"
      ],
      "execution_count": 8,
      "outputs": []
    },
    {
      "cell_type": "code",
      "metadata": {
        "id": "e9wsUeht2dzP",
        "colab_type": "code",
        "colab": {}
      },
      "source": [
        "if not os.path.isdir(annotations_path):\n",
        "    os.mkdir(annotations_path)\n",
        "    \n",
        "input_images_folder = images_folder;\n",
        "input_annotations_path = root + \"/\" + anno_file;"
      ],
      "execution_count": 9,
      "outputs": []
    },
    {
      "cell_type": "code",
      "metadata": {
        "id": "6xp4Mvf82gWj",
        "colab_type": "code",
        "colab": {}
      },
      "source": [
        "output_dataset_path = root;\n",
        "output_image_folder = input_images_folder;\n",
        "output_annotation_folder = annotations_path;\n",
        "\n",
        "tmp = img_dir.replace(\"/\", \"\");\n",
        "output_annotation_file = output_annotation_folder + \"/instances_\" + tmp + \".json\";\n",
        "output_classes_file = output_annotation_folder + \"/classes.txt\";"
      ],
      "execution_count": 10,
      "outputs": []
    },
    {
      "cell_type": "code",
      "metadata": {
        "id": "i3KvQ8HK2hCQ",
        "colab_type": "code",
        "colab": {}
      },
      "source": [
        "if not os.path.isdir(output_annotation_folder):\n",
        "    os.mkdir(output_annotation_folder);"
      ],
      "execution_count": 11,
      "outputs": []
    },
    {
      "cell_type": "code",
      "metadata": {
        "id": "GCZA0m4-2jtX",
        "colab_type": "code",
        "colab": {}
      },
      "source": [
        "df = pd.read_csv(input_annotations_path);\n",
        "columns = df.columns"
      ],
      "execution_count": 12,
      "outputs": []
    },
    {
      "cell_type": "code",
      "metadata": {
        "id": "m1SkITIn2mP2",
        "colab_type": "code",
        "colab": {}
      },
      "source": [
        "delimiter = \" \";"
      ],
      "execution_count": 13,
      "outputs": []
    },
    {
      "cell_type": "code",
      "metadata": {
        "id": "gnFkCPK02o6d",
        "colab_type": "code",
        "colab": {
          "base_uri": "https://localhost:8080/",
          "height": 34
        },
        "outputId": "cec2b196-94c9-4a2e-8cb7-43f6b1f3ad14"
      },
      "source": [
        "list_dict = [];\n",
        "anno = [];\n",
        "for i in range(len(df)):\n",
        "    img_name = df[columns[0]][i];\n",
        "    labels = df[columns[1]][i];\n",
        "    tmp = labels.split(delimiter);\n",
        "    for j in range(len(tmp)//5):\n",
        "        label = tmp[j*5+4];\n",
        "        if(label not in anno):\n",
        "            anno.append(label);\n",
        "    anno = sorted(anno)\n",
        "    \n",
        "for i in tqdm(range(len(anno))):\n",
        "    tmp = {};\n",
        "    tmp[\"supercategory\"] = \"master\";\n",
        "    tmp[\"id\"] = i;\n",
        "    tmp[\"name\"] = anno[i];\n",
        "    list_dict.append(tmp);\n",
        "\n",
        "anno_f = open(output_classes_file, 'w');\n",
        "for i in range(len(anno)):\n",
        "    anno_f.write(anno[i] + \"\\n\");\n",
        "anno_f.close();"
      ],
      "execution_count": 14,
      "outputs": [
        {
          "output_type": "stream",
          "text": [
            "100%|██████████| 5/5 [00:00<00:00, 5070.48it/s]\n"
          ],
          "name": "stderr"
        }
      ]
    },
    {
      "cell_type": "code",
      "metadata": {
        "id": "3X1gx0Qb2sR3",
        "colab_type": "code",
        "colab": {
          "base_uri": "https://localhost:8080/",
          "height": 34
        },
        "outputId": "d53c3d3e-cd58-4b9b-a693-e3d8767911e1"
      },
      "source": [
        "coco_data = {};\n",
        "coco_data[\"type\"] = \"instances\";\n",
        "coco_data[\"images\"] = [];\n",
        "coco_data[\"annotations\"] = [];\n",
        "coco_data[\"categories\"] = list_dict;\n",
        "image_id = 0;\n",
        "annotation_id = 0;\n",
        "\n",
        "\n",
        "for i in tqdm(range(len(df))):\n",
        "    img_name = df[columns[0]][i];\n",
        "    labels = df[columns[1]][i];\n",
        "    tmp = labels.split(delimiter);\n",
        "    image_in_path = input_images_folder + \"/\" + img_name;\n",
        "    img = cv2.imread(image_in_path, 1);\n",
        "    h, w, c = img.shape;\n",
        "\n",
        "    images_tmp = {};\n",
        "    images_tmp[\"file_name\"] = img_name;\n",
        "    images_tmp[\"height\"] = h;\n",
        "    images_tmp[\"width\"] = w;\n",
        "    images_tmp[\"id\"] = image_id;\n",
        "    coco_data[\"images\"].append(images_tmp);\n",
        "    \n",
        "\n",
        "    for j in range(len(tmp)//5):\n",
        "        x1 = int(float(tmp[j*5+0]));\n",
        "        y1 = int(float(tmp[j*5+1]));\n",
        "        x2 = int(float(tmp[j*5+2]));\n",
        "        y2 = int(float(tmp[j*5+3]));\n",
        "        label = tmp[j*5+4];\n",
        "        annotations_tmp = {};\n",
        "        annotations_tmp[\"id\"] = annotation_id;\n",
        "        annotation_id += 1;                                                                 \n",
        "        annotations_tmp[\"image_id\"] = image_id;\n",
        "        annotations_tmp[\"segmentation\"] = [];\n",
        "        annotations_tmp[\"ignore\"] = 0;\n",
        "        annotations_tmp[\"area\"] = (x2-x1)*(y2-y1);\n",
        "        annotations_tmp[\"iscrowd\"] = 0;\n",
        "        annotations_tmp[\"bbox\"] = [x1, y1, x2-x1, y2-y1];\n",
        "        annotations_tmp[\"category_id\"] = anno.index(label);\n",
        "\n",
        "        coco_data[\"annotations\"].append(annotations_tmp)\n",
        "    image_id += 1;\n",
        "\n",
        "outfile =  open(output_annotation_file, 'w');\n",
        "json_str = json.dumps(coco_data, indent=4);\n",
        "outfile.write(json_str);\n",
        "outfile.close();"
      ],
      "execution_count": 15,
      "outputs": [
        {
          "output_type": "stream",
          "text": [
            "100%|██████████| 49281/49281 [6:10:22<00:00,  2.22it/s]\n"
          ],
          "name": "stderr"
        }
      ]
    }
  ]
}