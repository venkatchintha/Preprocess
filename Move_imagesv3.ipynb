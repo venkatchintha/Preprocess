{
  "nbformat": 4,
  "nbformat_minor": 0,
  "metadata": {
    "colab": {
      "name": "Move images.ipynb",
      "provenance": [],
      "include_colab_link": true
    },
    "kernelspec": {
      "name": "python3",
      "display_name": "Python 3"
    }
  },
  "cells": [
    {
      "cell_type": "markdown",
      "metadata": {
        "id": "view-in-github",
        "colab_type": "text"
      },
      "source": [
        "<a href=\"https://colab.research.google.com/github/venkatchintha/Project0/blob/master/Move_imagesv3.ipynb\" target=\"_parent\"><img src=\"https://colab.research.google.com/assets/colab-badge.svg\" alt=\"Open In Colab\"/></a>"
      ]
    },
    {
      "cell_type": "code",
      "metadata": {
        "id": "AQUQjW9tOmZd",
        "colab_type": "code",
        "colab": {
          "base_uri": "https://localhost:8080/",
          "height": 34
        },
        "outputId": "9fda046b-683c-4c00-8c4e-dab58380b62e"
      },
      "source": [
        "from google.colab import drive\n",
        "drive.mount('/content/drive')"
      ],
      "execution_count": 8,
      "outputs": [
        {
          "output_type": "stream",
          "text": [
            "Drive already mounted at /content/drive; to attempt to forcibly remount, call drive.mount(\"/content/drive\", force_remount=True).\n"
          ],
          "name": "stdout"
        }
      ]
    },
    {
      "cell_type": "code",
      "metadata": {
        "id": "QMjLKuA7O2PP",
        "colab_type": "code",
        "colab": {
          "base_uri": "https://localhost:8080/",
          "height": 34
        },
        "outputId": "370b704a-833c-4c06-d138-c9cb6b1bf972"
      },
      "source": [
        "%cd  /content/drive/My Drive/Kaggle/nexet/nexet"
      ],
      "execution_count": 50,
      "outputs": [
        {
          "output_type": "stream",
          "text": [
            "/content/drive/My Drive/Kaggle/nexet/nexet\n"
          ],
          "name": "stdout"
        }
      ]
    },
    {
      "cell_type": "code",
      "metadata": {
        "id": "IAEWGZYBPBZq",
        "colab_type": "code",
        "colab": {}
      },
      "source": [
        "import subprocess\n",
        "import sys\n",
        "import os, shutil\n",
        "import csv\n",
        "import pandas as pd\n",
        "from csv import reader"
      ],
      "execution_count": 15,
      "outputs": []
    },
    {
      "cell_type": "code",
      "metadata": {
        "id": "eHYz3LnC_5Nt",
        "colab_type": "code",
        "colab": {
          "base_uri": "https://localhost:8080/",
          "height": 34
        },
        "outputId": "7c271fad-109f-419d-912d-26148b811743"
      },
      "source": [
        "image_name = [x for x in os.listdir('/content/drive/My Drive/Kaggle/nexet/nexet/nexet_2017_1/') if x.endswith(\".jpg\")]\n",
        "\n",
        "print(len(image_name))"
      ],
      "execution_count": 62,
      "outputs": [
        {
          "output_type": "stream",
          "text": [
            "49281\n"
          ],
          "name": "stdout"
        }
      ]
    },
    {
      "cell_type": "code",
      "metadata": {
        "id": "ruPCMk9_zZnF",
        "colab_type": "code",
        "colab": {
          "base_uri": "https://localhost:8080/",
          "height": 34
        },
        "outputId": "f25f8503-715f-4610-a659-7a739359d606"
      },
      "source": [
        "import pandas as pd\n",
        "columns=['ID']\n",
        "df = pd.read_csv('/content/drive/My Drive/Kaggle/nexet/nexet/train_labels.csv',usecols=columns)\n",
        "label_name = df['ID'].values.tolist()\n",
        "print(len(label_name))"
      ],
      "execution_count": 29,
      "outputs": [
        {
          "output_type": "stream",
          "text": [
            "49281\n"
          ],
          "name": "stdout"
        }
      ]
    },
    {
      "cell_type": "code",
      "metadata": {
        "id": "s9zQO2ujkifb",
        "colab_type": "code",
        "colab": {}
      },
      "source": [
        "diff = [x for x in os.listdir('/content/drive/My Drive/Kaggle/nexet/nexet/nexet_2017_1/') if (x.endswith(\".jpg\")and(not(x in label_name)))]\n"
      ],
      "execution_count": 59,
      "outputs": []
    },
    {
      "cell_type": "code",
      "metadata": {
        "id": "HKx4_P8LksTF",
        "colab_type": "code",
        "colab": {
          "base_uri": "https://localhost:8080/",
          "height": 34
        },
        "outputId": "053b6340-7c79-4ecd-a852-25815143d76e"
      },
      "source": [
        "print(len(diff))"
      ],
      "execution_count": 60,
      "outputs": [
        {
          "output_type": "stream",
          "text": [
            "0\n"
          ],
          "name": "stdout"
        }
      ]
    },
    {
      "cell_type": "code",
      "metadata": {
        "id": "7VhCMLjWq_YB",
        "colab_type": "code",
        "colab": {
          "base_uri": "https://localhost:8080/",
          "height": 68
        },
        "outputId": "b43cb4e4-84c6-4604-cd94-f98dee4ae058"
      },
      "source": [
        "!ls"
      ],
      "execution_count": 47,
      "outputs": [
        {
          "output_type": "stream",
          "text": [
            "annotations  labels\t\t    Test_images      train_labels.csv\n",
            "classes.txt  Monk_Object_Detection  train_boxes.csv  train.lst\n",
            "desktop.ini  nexet_2017_1\t    train.csv\n"
          ],
          "name": "stdout"
        }
      ]
    },
    {
      "cell_type": "code",
      "metadata": {
        "id": "-i01Hti-q40N",
        "colab_type": "code",
        "colab": {
          "base_uri": "https://localhost:8080/",
          "height": 34
        },
        "outputId": "c5254205-79a5-4f1f-a040-29d583bb01eb"
      },
      "source": [
        "%cd  nexet_2017_1"
      ],
      "execution_count": 57,
      "outputs": [
        {
          "output_type": "stream",
          "text": [
            "/content/drive/My Drive/Kaggle/nexet/nexet/nexet_2017_1\n"
          ],
          "name": "stdout"
        }
      ]
    },
    {
      "cell_type": "code",
      "metadata": {
        "id": "QmwNPmbAlr3g",
        "colab_type": "code",
        "colab": {}
      },
      "source": [
        "import shutil, os\n",
        "files = diff\n",
        "for f in files:\n",
        "    shutil.move(f, '/content/drive/My Drive/Kaggle/nexet/nexet/Test_images')\n",
        "\n"
      ],
      "execution_count": 58,
      "outputs": []
    },
    {
      "cell_type": "code",
      "metadata": {
        "id": "H9bpkdYG-H5L",
        "colab_type": "code",
        "colab": {}
      },
      "source": [
        ""
      ],
      "execution_count": null,
      "outputs": []
    },
    {
      "cell_type": "code",
      "metadata": {
        "id": "8GpCGEdD-2U-",
        "colab_type": "code",
        "colab": {}
      },
      "source": [
        ""
      ],
      "execution_count": null,
      "outputs": []
    },
    {
      "cell_type": "code",
      "metadata": {
        "id": "SETA-r7d9HRZ",
        "colab_type": "code",
        "colab": {}
      },
      "source": [
        ""
      ],
      "execution_count": null,
      "outputs": []
    },
    {
      "cell_type": "code",
      "metadata": {
        "id": "RNuwxLBR8DGD",
        "colab_type": "code",
        "colab": {
          "base_uri": "https://localhost:8080/",
          "height": 34
        },
        "outputId": "ecfd5f76-7c8f-4573-9b35-6001cf74c534"
      },
      "source": [
        "lines = list()\n",
        "\n",
        "members= input(\"Please enter a member's name to be deleted.\")\n",
        "\n",
        "with open('/content/drive/My Drive/Kaggle/nexet/nexet/train_labels.csv', 'r') as readFile:\n",
        "\n",
        "    reader = csv.reader(readFile)\n",
        "\n",
        "    for row in reader:\n",
        "\n",
        "        lines.append(row)\n",
        "\n",
        "        for field in row:\n",
        "\n",
        "            if field == members:\n",
        "\n",
        "             \n",
        "                lines.remove(row)\n",
        "\n",
        "with open('/content/drive/My Drive/Kaggle/nexet/nexet/train_labels.csv', 'w') as writeFile:\n",
        "\n",
        "    writer = csv.writer(writeFile)\n",
        "\n",
        "    writer.writerows(lines)"
      ],
      "execution_count": null,
      "outputs": [
        {
          "output_type": "stream",
          "text": [
            "Please enter a member's name to be deleted.frame_d26101503e6d32705b0a61346ffcb477_26538516b98bd2a78416af8a27055e3c_30000-1280_720.jpg\n"
          ],
          "name": "stdout"
        }
      ]
    },
    {
      "cell_type": "code",
      "metadata": {
        "id": "ErUViJHu9MUK",
        "colab_type": "code",
        "colab": {
          "base_uri": "https://localhost:8080/",
          "height": 34
        },
        "outputId": "98f6ae4b-ff4e-47b0-ebcb-ca814d7f54a9"
      },
      "source": [
        "import pandas as pd\n",
        "columns=['ID']\n",
        "df = pd.read_csv('/content/drive/My Drive/Kaggle/nexet/nexet/train_labels.csv',usecols=columns)\n",
        "label_name = df['ID'].values.tolist()\n",
        "print(len(image_names))\n"
      ],
      "execution_count": null,
      "outputs": [
        {
          "output_type": "stream",
          "text": [
            "49282\n"
          ],
          "name": "stdout"
        }
      ]
    }
  ]
}